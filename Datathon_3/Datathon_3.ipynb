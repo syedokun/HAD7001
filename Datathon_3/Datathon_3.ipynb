{
  "nbformat": 4,
  "nbformat_minor": 0,
  "metadata": {
    "colab": {
      "provenance": [],
      "authorship_tag": "ABX9TyPD+VMozrTWTz0b/9bN7KlV",
      "include_colab_link": true
    },
    "kernelspec": {
      "name": "python3",
      "display_name": "Python 3"
    },
    "language_info": {
      "name": "python"
    }
  },
  "cells": [
    {
      "cell_type": "markdown",
      "metadata": {
        "id": "view-in-github",
        "colab_type": "text"
      },
      "source": [
        "<a href=\"https://colab.research.google.com/github/syedokun/HAD7001/blob/main/Datathon_3/Datathon_3.ipynb\" target=\"_parent\"><img src=\"https://colab.research.google.com/assets/colab-badge.svg\" alt=\"Open In Colab\"/></a>"
      ]
    },
    {
      "cell_type": "markdown",
      "source": [
        "## Imports and Environment setup"
      ],
      "metadata": {
        "id": "UmC_vMFSALTF"
      }
    },
    {
      "cell_type": "code",
      "execution_count": 1,
      "metadata": {
        "id": "uPv8lzDd_y-4"
      },
      "outputs": [],
      "source": [
        "import pandas as pd\n",
        "import numpy as np\n",
        "import matplotlib.pyplot as plt\n",
        "import seaborn as sns"
      ]
    },
    {
      "cell_type": "code",
      "source": [
        "import warnings\n",
        "warnings.filterwarnings('ignore')"
      ],
      "metadata": {
        "id": "5LqKCl5WB_GE"
      },
      "execution_count": 10,
      "outputs": []
    },
    {
      "cell_type": "code",
      "source": [
        "source_df = pd.read_csv('/content/Datathon #3 Dataset - HAD7001.csv')"
      ],
      "metadata": {
        "id": "o5-Ix-niAepY"
      },
      "execution_count": 2,
      "outputs": []
    },
    {
      "cell_type": "markdown",
      "source": [
        "## EDA"
      ],
      "metadata": {
        "id": "V0giQFH7CFAW"
      }
    },
    {
      "cell_type": "code",
      "source": [
        "source_df['apache_3j_bodysystem'].unique()"
      ],
      "metadata": {
        "colab": {
          "base_uri": "https://localhost:8080/"
        },
        "id": "6RrZBaaOBuVd",
        "outputId": "84975528-ed57-48e6-ccfc-492137fd9603"
      },
      "execution_count": 7,
      "outputs": [
        {
          "output_type": "execute_result",
          "data": {
            "text/plain": [
              "array(['Sepsis', 'Respiratory', 'Metabolic', 'Cardiovascular', 'Trauma',\n",
              "       'Neurological', 'Gastrointestinal', 'Genitourinary', nan,\n",
              "       'Hematological', 'Musculoskeletal/Skin', 'Gynecological'],\n",
              "      dtype=object)"
            ]
          },
          "metadata": {},
          "execution_count": 7
        }
      ]
    },
    {
      "cell_type": "code",
      "source": [
        "source_df.shape"
      ],
      "metadata": {
        "colab": {
          "base_uri": "https://localhost:8080/"
        },
        "id": "uqA8XOGGB1L4",
        "outputId": "4e3453ca-a6b3-4b99-ef02-75946d53fffc"
      },
      "execution_count": 8,
      "outputs": [
        {
          "output_type": "execute_result",
          "data": {
            "text/plain": [
              "(91713, 186)"
            ]
          },
          "metadata": {},
          "execution_count": 8
        }
      ]
    },
    {
      "cell_type": "code",
      "source": [
        "sepsis_patients = source_df[source_df['apache_3j_bodysystem'] == 'Sepsis']\n",
        "sepsis_patients.shape"
      ],
      "metadata": {
        "colab": {
          "base_uri": "https://localhost:8080/"
        },
        "id": "pImzvVJ3AkoT",
        "outputId": "6ab5198e-da5c-45bb-933d-2924e2289c0f"
      },
      "execution_count": 11,
      "outputs": [
        {
          "output_type": "execute_result",
          "data": {
            "text/plain": [
              "(11740, 186)"
            ]
          },
          "metadata": {},
          "execution_count": 11
        }
      ]
    },
    {
      "cell_type": "code",
      "source": [
        "numeric_features = sepsis_patients.select_dtypes(include=np.number)\n",
        "correlation_matrix = numeric_features.corr()"
      ],
      "metadata": {
        "id": "QA8_bO6FCJJG"
      },
      "execution_count": 13,
      "outputs": []
    },
    {
      "cell_type": "code",
      "source": [
        "# Find columns with very high correlation\n",
        "high_correlation_cols = []\n",
        "for i in range(len(correlation_matrix.columns)):\n",
        "    for j in range(i):\n",
        "        if abs(correlation_matrix.iloc[i, j]) > 0.75:\n",
        "            col1 = correlation_matrix.columns[i]\n",
        "            col2 = correlation_matrix.columns[j]\n",
        "            high_correlation_cols.append((col1, col2, correlation_matrix.iloc[i, j]))\n",
        "\n",
        "print(\"Highly Correlated Columns:\")\n",
        "print(\"-\"*40)\n",
        "for col1, col2, correlation in high_correlation_cols:\n",
        "    print(f\"{col1} and {col2}: {correlation}\")"
      ],
      "metadata": {
        "colab": {
          "base_uri": "https://localhost:8080/"
        },
        "id": "N-6BX47qDFlt",
        "outputId": "2a09355c-7292-47a4-cbea-bfe582941088"
      },
      "execution_count": 17,
      "outputs": [
        {
          "output_type": "stream",
          "name": "stdout",
          "text": [
            "Highly Correlated Columns:\n",
            "----------------------------------------\n",
            "weight and bmi: 0.8857273613009442\n",
            "paco2_for_ph_apache and paco2_apache: 1.0\n",
            "d1_diasbp_noninvasive_max and d1_diasbp_max: 0.9983566463130715\n",
            "d1_diasbp_noninvasive_min and d1_diasbp_min: 0.9995186634916342\n",
            "d1_heartrate_max and heart_rate_apache: 0.8147681388376852\n",
            "d1_mbp_max and d1_diasbp_max: 0.841428990037011\n",
            "d1_mbp_max and d1_diasbp_noninvasive_max: 0.841378812450903\n",
            "d1_mbp_min and d1_diasbp_min: 0.8800453828240578\n",
            "d1_mbp_min and d1_diasbp_noninvasive_min: 0.8805552506251634\n",
            "d1_mbp_noninvasive_max and d1_diasbp_max: 0.8459955956817121\n",
            "d1_mbp_noninvasive_max and d1_diasbp_noninvasive_max: 0.8476522734430169\n",
            "d1_mbp_noninvasive_max and d1_mbp_max: 0.9909358950723587\n",
            "d1_mbp_noninvasive_min and d1_diasbp_min: 0.8822615086596174\n",
            "d1_mbp_noninvasive_min and d1_diasbp_noninvasive_min: 0.8831085037376051\n",
            "d1_mbp_noninvasive_min and d1_mbp_min: 0.997673784599094\n",
            "d1_sysbp_min and d1_mbp_min: 0.8192152421933871\n",
            "d1_sysbp_min and d1_mbp_noninvasive_min: 0.8228968188492278\n",
            "d1_sysbp_noninvasive_max and d1_sysbp_max: 0.9992322392262633\n",
            "d1_sysbp_noninvasive_min and d1_mbp_min: 0.8190983755162653\n",
            "d1_sysbp_noninvasive_min and d1_mbp_noninvasive_min: 0.8232873803375214\n",
            "d1_sysbp_noninvasive_min and d1_sysbp_min: 0.9991923483335123\n",
            "h1_diasbp_noninvasive_max and h1_diasbp_max: 0.9849179483561316\n",
            "h1_diasbp_noninvasive_min and h1_diasbp_min: 0.9835154115456759\n",
            "h1_heartrate_max and d1_heartrate_max: 0.7806731012233168\n",
            "h1_heartrate_min and h1_heartrate_max: 0.8451077710554199\n",
            "h1_mbp_invasive_min and h1_diasbp_invasive_min: 0.8246370002410995\n",
            "h1_mbp_max and h1_diasbp_max: 0.8625712885533479\n",
            "h1_mbp_max and h1_diasbp_noninvasive_max: 0.8709467402723874\n",
            "h1_mbp_min and h1_diasbp_min: 0.8949686300193264\n",
            "h1_mbp_min and h1_diasbp_noninvasive_min: 0.8924091593998746\n",
            "h1_mbp_noninvasive_max and h1_diasbp_max: 0.8639659923690006\n",
            "h1_mbp_noninvasive_max and h1_diasbp_noninvasive_max: 0.8703905503047608\n",
            "h1_mbp_noninvasive_max and h1_mbp_max: 0.9936528148676713\n",
            "h1_mbp_noninvasive_min and h1_diasbp_min: 0.8951906498336889\n",
            "h1_mbp_noninvasive_min and h1_diasbp_noninvasive_min: 0.8931344771935252\n",
            "h1_mbp_noninvasive_min and h1_mbp_min: 0.9990056836878339\n",
            "h1_sysbp_invasive_min and h1_mbp_invasive_min: 0.8009449082413646\n",
            "h1_sysbp_max and h1_mbp_max: 0.7936257143194771\n",
            "h1_sysbp_max and h1_mbp_noninvasive_max: 0.7938494864766862\n",
            "h1_sysbp_min and h1_mbp_min: 0.8366648364871935\n",
            "h1_sysbp_min and h1_mbp_noninvasive_min: 0.8378467026212153\n",
            "h1_sysbp_noninvasive_max and h1_mbp_max: 0.7940378552252868\n",
            "h1_sysbp_noninvasive_max and h1_mbp_noninvasive_max: 0.79425455771297\n",
            "h1_sysbp_noninvasive_max and h1_sysbp_max: 0.9997103478310986\n",
            "h1_sysbp_noninvasive_min and h1_mbp_min: 0.8355665855183997\n",
            "h1_sysbp_noninvasive_min and h1_mbp_noninvasive_min: 0.8368308212611405\n",
            "h1_sysbp_noninvasive_min and h1_sysbp_min: 0.9925110814722367\n",
            "h1_temp_min and h1_temp_max: 0.7940635862607767\n",
            "d1_albumin_max and albumin_apache: 0.9490154246234661\n",
            "d1_albumin_min and albumin_apache: 0.9697805753496868\n",
            "d1_albumin_min and d1_albumin_max: 0.9398638819950037\n",
            "d1_bilirubin_max and bilirubin_apache: 0.9971472506502475\n",
            "d1_bilirubin_min and bilirubin_apache: 0.98735290276498\n",
            "d1_bilirubin_min and d1_bilirubin_max: 0.9878066548315557\n",
            "d1_bun_max and bun_apache: 0.9840676931451505\n",
            "d1_bun_min and bun_apache: 0.9626716480267649\n",
            "d1_bun_min and d1_bun_max: 0.9664433580792302\n",
            "d1_calcium_min and d1_calcium_max: 0.8710511269989945\n",
            "d1_creatinine_max and creatinine_apache: 0.9913725344557034\n",
            "d1_creatinine_min and creatinine_apache: 0.9638521753956455\n",
            "d1_creatinine_min and d1_creatinine_max: 0.965763474155942\n",
            "d1_glucose_max and glucose_apache: 0.9137399816221157\n",
            "d1_hco3_min and d1_hco3_max: 0.851620640912647\n",
            "d1_hemaglobin_max and hematocrit_apache: 0.8758757939458419\n",
            "d1_hemaglobin_min and hematocrit_apache: 0.9395797756050415\n",
            "d1_hemaglobin_min and d1_hemaglobin_max: 0.9005140454033806\n",
            "d1_hematocrit_max and hematocrit_apache: 0.9085479367816032\n",
            "d1_hematocrit_max and d1_hemaglobin_max: 0.9593406780658854\n",
            "d1_hematocrit_max and d1_hemaglobin_min: 0.8858038201232321\n",
            "d1_hematocrit_min and hematocrit_apache: 0.966690669905681\n",
            "d1_hematocrit_min and d1_hemaglobin_max: 0.8771135653298908\n",
            "d1_hematocrit_min and d1_hemaglobin_min: 0.9608087655937518\n",
            "d1_hematocrit_min and d1_hematocrit_max: 0.9086784928483826\n",
            "d1_inr_min and d1_inr_max: 0.89186289324736\n",
            "d1_lactate_min and d1_lactate_max: 0.8463586260848475\n",
            "d1_platelets_min and d1_platelets_max: 0.9734085063275338\n",
            "d1_sodium_max and sodium_apache: 0.909465955711418\n",
            "d1_sodium_min and sodium_apache: 0.8842451866769172\n",
            "d1_sodium_min and d1_sodium_max: 0.8148446637209708\n",
            "d1_wbc_max and wbc_apache: 0.9775789766408701\n",
            "d1_wbc_min and wbc_apache: 0.9477035157688324\n",
            "d1_wbc_min and d1_wbc_max: 0.944253944554059\n",
            "h1_albumin_max and albumin_apache: 0.8916319139857499\n",
            "h1_albumin_max and d1_albumin_max: 0.9421325519246437\n",
            "h1_albumin_max and d1_albumin_min: 0.9163367048473127\n",
            "h1_albumin_min and albumin_apache: 0.8918561242831536\n",
            "h1_albumin_min and d1_albumin_max: 0.9416539182024298\n",
            "h1_albumin_min and d1_albumin_min: 0.916658558578938\n",
            "h1_albumin_min and h1_albumin_max: 0.9994751241446184\n",
            "h1_bilirubin_max and bilirubin_apache: 0.9902447938806861\n",
            "h1_bilirubin_max and d1_bilirubin_max: 0.9887620032658029\n",
            "h1_bilirubin_max and d1_bilirubin_min: 0.9826296744280731\n",
            "h1_bilirubin_min and bilirubin_apache: 0.9902560568929294\n",
            "h1_bilirubin_min and d1_bilirubin_max: 0.9887552232578855\n",
            "h1_bilirubin_min and d1_bilirubin_min: 0.9826420094023919\n",
            "h1_bilirubin_min and h1_bilirubin_max: 0.999984247116483\n",
            "h1_bun_max and bun_apache: 0.9730754004569244\n",
            "h1_bun_max and d1_bun_max: 0.9855561656574023\n",
            "h1_bun_max and d1_bun_min: 0.9379896175222369\n",
            "h1_bun_min and bun_apache: 0.9745417463472515\n",
            "h1_bun_min and d1_bun_max: 0.9841135778630039\n",
            "h1_bun_min and d1_bun_min: 0.9393375921604704\n",
            "h1_bun_min and h1_bun_max: 0.9985167974788312\n",
            "h1_calcium_max and d1_calcium_max: 0.9064821514868756\n",
            "h1_calcium_max and d1_calcium_min: 0.8472048721953482\n",
            "h1_calcium_min and d1_calcium_max: 0.9021388162322173\n",
            "h1_calcium_min and d1_calcium_min: 0.8507636320694948\n",
            "h1_calcium_min and h1_calcium_max: 0.9961143794771923\n",
            "h1_creatinine_max and creatinine_apache: 0.9754433458467633\n",
            "h1_creatinine_max and d1_creatinine_max: 0.990588163073992\n",
            "h1_creatinine_max and d1_creatinine_min: 0.9323139093233109\n",
            "h1_creatinine_min and creatinine_apache: 0.9782478871295726\n",
            "h1_creatinine_min and d1_creatinine_max: 0.9879437253489162\n",
            "h1_creatinine_min and d1_creatinine_min: 0.9350323030955783\n",
            "h1_creatinine_min and h1_creatinine_max: 0.9971534373820354\n",
            "h1_glucose_max and glucose_apache: 0.809808543893617\n",
            "h1_glucose_max and d1_glucose_max: 0.8412750368315339\n",
            "h1_glucose_min and glucose_apache: 0.8051753687725273\n",
            "h1_glucose_min and d1_glucose_max: 0.81206535420691\n",
            "h1_glucose_min and h1_glucose_max: 0.9682523812692644\n",
            "h1_hco3_max and d1_hco3_max: 0.8169704062648727\n",
            "h1_hco3_max and d1_hco3_min: 0.9245242980327337\n",
            "h1_hco3_min and d1_hco3_max: 0.8152286502613664\n",
            "h1_hco3_min and d1_hco3_min: 0.9259654372170661\n",
            "h1_hco3_min and h1_hco3_max: 0.9981879118563199\n",
            "h1_hemaglobin_max and hematocrit_apache: 0.842403250084122\n",
            "h1_hemaglobin_max and d1_hemaglobin_max: 0.9318309402935949\n",
            "h1_hemaglobin_max and d1_hemaglobin_min: 0.8812116251729082\n",
            "h1_hemaglobin_max and d1_hematocrit_max: 0.9103848455647507\n",
            "h1_hemaglobin_max and d1_hematocrit_min: 0.8573497718504663\n",
            "h1_hemaglobin_min and hematocrit_apache: 0.8488006440712\n",
            "h1_hemaglobin_min and d1_hemaglobin_max: 0.9093395782367062\n",
            "h1_hemaglobin_min and d1_hemaglobin_min: 0.8841558684765384\n",
            "h1_hemaglobin_min and d1_hematocrit_max: 0.8968350806906868\n",
            "h1_hemaglobin_min and d1_hematocrit_min: 0.8589010684937995\n",
            "h1_hemaglobin_min and h1_hemaglobin_max: 0.9801326485485095\n",
            "h1_hematocrit_max and hematocrit_apache: 0.8629102316858382\n",
            "h1_hematocrit_max and d1_hemaglobin_max: 0.8918942729782211\n",
            "h1_hematocrit_max and d1_hemaglobin_min: 0.8558957404871712\n",
            "h1_hematocrit_max and d1_hematocrit_max: 0.942568841443544\n",
            "h1_hematocrit_max and d1_hematocrit_min: 0.8741791304169796\n",
            "h1_hematocrit_max and h1_hemaglobin_max: 0.9624927299956209\n",
            "h1_hematocrit_max and h1_hemaglobin_min: 0.9503975092241816\n",
            "h1_hematocrit_min and hematocrit_apache: 0.8745605617480511\n",
            "h1_hematocrit_min and d1_hemaglobin_max: 0.891916485692926\n",
            "h1_hematocrit_min and d1_hemaglobin_min: 0.8710025659032836\n",
            "h1_hematocrit_min and d1_hematocrit_max: 0.9388483216244016\n",
            "h1_hematocrit_min and d1_hematocrit_min: 0.8907299944815191\n",
            "h1_hematocrit_min and h1_hemaglobin_max: 0.9636683089335825\n",
            "h1_hematocrit_min and h1_hemaglobin_min: 0.9671778792827093\n",
            "h1_hematocrit_min and h1_hematocrit_max: 0.9819147882443949\n",
            "h1_inr_max and d1_inr_max: 1.0\n",
            "h1_inr_max and d1_inr_min: 0.8918628932473599\n",
            "h1_inr_min and d1_inr_max: 0.89186289324736\n",
            "h1_inr_min and d1_inr_min: 1.0\n",
            "h1_inr_min and h1_inr_max: 0.89186289324736\n",
            "h1_lactate_max and d1_lactate_max: 0.9010158746705442\n",
            "h1_lactate_max and d1_lactate_min: 0.8170826972309151\n",
            "h1_lactate_min and d1_lactate_max: 0.9095666275598155\n",
            "h1_lactate_min and d1_lactate_min: 0.8303922023187575\n",
            "h1_lactate_min and h1_lactate_max: 0.9882190515752378\n",
            "h1_platelets_max and d1_platelets_max: 0.9902428339772635\n",
            "h1_platelets_max and d1_platelets_min: 0.9517911457875952\n",
            "h1_platelets_min and d1_platelets_max: 0.9898164590442592\n",
            "h1_platelets_min and d1_platelets_min: 0.952116469804434\n",
            "h1_platelets_min and h1_platelets_max: 0.9994878977486628\n",
            "h1_potassium_max and d1_potassium_max: 0.8216493804590566\n",
            "h1_potassium_min and d1_potassium_max: 0.815659832047045\n",
            "h1_potassium_min and h1_potassium_max: 0.983641079850234\n",
            "h1_sodium_max and sodium_apache: 0.8608047455936274\n",
            "h1_sodium_max and d1_sodium_max: 0.839672854017365\n",
            "h1_sodium_max and d1_sodium_min: 0.8933043177101201\n",
            "h1_sodium_min and sodium_apache: 0.8648791139366057\n",
            "h1_sodium_min and d1_sodium_max: 0.8319729032233757\n",
            "h1_sodium_min and d1_sodium_min: 0.900784843413896\n",
            "h1_sodium_min and h1_sodium_max: 0.9912576777395075\n",
            "h1_wbc_max and wbc_apache: 0.9027560087620999\n",
            "h1_wbc_max and d1_wbc_max: 0.9118898962620625\n",
            "h1_wbc_max and d1_wbc_min: 0.9334061882200549\n",
            "h1_wbc_min and wbc_apache: 0.9020911287643539\n",
            "h1_wbc_min and d1_wbc_max: 0.9111523712974376\n",
            "h1_wbc_min and d1_wbc_min: 0.9343572919024283\n",
            "h1_wbc_min and h1_wbc_max: 0.9995754656793333\n",
            "d1_arterial_pco2_max and paco2_apache: 0.8353441756290848\n",
            "d1_arterial_pco2_max and paco2_for_ph_apache: 0.8353441756290848\n",
            "d1_arterial_pco2_min and paco2_apache: 0.8182494537794752\n",
            "d1_arterial_pco2_min and paco2_for_ph_apache: 0.8182494537794752\n",
            "d1_arterial_ph_min and ph_apache: 0.811534442074177\n",
            "h1_arterial_pco2_max and paco2_apache: 0.7625203889023954\n",
            "h1_arterial_pco2_max and paco2_for_ph_apache: 0.7625203889023954\n",
            "h1_arterial_pco2_max and d1_arterial_pco2_max: 0.8856376230166825\n",
            "h1_arterial_pco2_max and d1_arterial_pco2_min: 0.7691651487753225\n",
            "h1_arterial_pco2_min and paco2_apache: 0.7627912559415407\n",
            "h1_arterial_pco2_min and paco2_for_ph_apache: 0.7627912559415407\n",
            "h1_arterial_pco2_min and d1_arterial_pco2_max: 0.8706369118405951\n",
            "h1_arterial_pco2_min and d1_arterial_pco2_min: 0.7814452163278099\n",
            "h1_arterial_pco2_min and h1_arterial_pco2_max: 0.9842964733496605\n",
            "h1_arterial_ph_max and d1_arterial_ph_min: 0.8671862815650639\n",
            "h1_arterial_ph_min and d1_arterial_ph_min: 0.8962557607649542\n",
            "h1_arterial_ph_min and h1_arterial_ph_max: 0.9628361169140462\n",
            "h1_arterial_po2_min and h1_arterial_po2_max: 0.9442852018461455\n",
            "h1_pao2fio2ratio_max and d1_pao2fio2ratio_max: 0.8302754281996276\n",
            "h1_pao2fio2ratio_max and d1_pao2fio2ratio_min: 0.8564903988936116\n",
            "h1_pao2fio2ratio_min and d1_pao2fio2ratio_max: 0.795018776923095\n",
            "h1_pao2fio2ratio_min and d1_pao2fio2ratio_min: 0.8861409917834618\n",
            "h1_pao2fio2ratio_min and h1_pao2fio2ratio_max: 0.9707310533094317\n",
            "apache_4a_icu_death_prob and apache_4a_hospital_death_prob: 0.8965747909387477\n"
          ]
        }
      ]
    },
    {
      "cell_type": "code",
      "source": [
        "clean_columns = ['bmi']"
      ],
      "metadata": {
        "id": "58vzszP0DenG"
      },
      "execution_count": 18,
      "outputs": []
    },
    {
      "cell_type": "code",
      "source": [
        "cleaned_sepsis_df = sepsis_patients[clean_columns]"
      ],
      "metadata": {
        "id": "IK1y75CiJ_gq"
      },
      "execution_count": null,
      "outputs": []
    }
  ]
}