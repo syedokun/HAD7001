{
  "cells": [
    {
      "cell_type": "markdown",
      "metadata": {
        "id": "view-in-github",
        "colab_type": "text"
      },
      "source": [
        "<a href=\"https://colab.research.google.com/github/syedokun/HAD7001/blob/main/Project/Project_Phase_2.ipynb\" target=\"_parent\"><img src=\"https://colab.research.google.com/assets/colab-badge.svg\" alt=\"Open In Colab\"/></a>"
      ]
    },
    {
      "cell_type": "markdown",
      "metadata": {
        "id": "odgEw8mcJfTb"
      },
      "source": [
        "## Drive mounting and importing"
      ]
    },
    {
      "cell_type": "code",
      "execution_count": 2,
      "metadata": {
        "colab": {
          "base_uri": "https://localhost:8080/"
        },
        "id": "AcDtCd6A-dxJ",
        "outputId": "2074afa2-7158-4284-846b-ec943b0de377"
      },
      "outputs": [
        {
          "output_type": "stream",
          "name": "stdout",
          "text": [
            "Mounted at /content/drive\n"
          ]
        }
      ],
      "source": [
        "from google.colab import drive\n",
        "drive.mount('/content/drive')"
      ]
    },
    {
      "cell_type": "code",
      "execution_count": null,
      "metadata": {
        "id": "c3VdZqIe-upI"
      },
      "outputs": [],
      "source": [
        "import pandas as pd\n",
        "import numpy as np\n",
        "\n",
        "import warnings\n",
        "warnings.filterwarnings('ignore')"
      ]
    },
    {
      "cell_type": "code",
      "execution_count": null,
      "metadata": {
        "id": "hPapiKpB-zUt"
      },
      "outputs": [],
      "source": [
        "demo = pd.read_csv('/content/drive/MyDrive/Research/Care4minds/Dataset v1/demo.csv')\n",
        "encDx = pd.read_csv('/content/drive/MyDrive/Research/Care4minds/Dataset v1/encDx.csv')\n",
        "encounters = pd.read_csv('/content/drive/MyDrive/Research/Care4minds/Dataset v1/encounters.csv')\n",
        "health = pd.read_csv('/content/drive/MyDrive/Research/Care4minds/Dataset v1/health.csv')\n",
        "lab = pd.read_csv('/content/drive/MyDrive/Research/Care4minds/Dataset v1/lab.csv')\n",
        "medication = pd.read_csv('/content/drive/MyDrive/Research/Care4minds/Dataset v1/medication.csv')\n",
        "medproc = pd.read_csv('/content/drive/MyDrive/Research/Care4minds/Dataset v1/medproc.csv')\n",
        "patient = pd.read_csv('/content/drive/MyDrive/Research/Care4minds/Dataset v1/patient.csv', sep=';')\n",
        "risk = pd.read_csv('/content/drive/MyDrive/Research/Care4minds/Dataset v1/risk.csv')"
      ]
    },
    {
      "cell_type": "markdown",
      "metadata": {
        "id": "kZpXOJVZqPQa"
      },
      "source": [
        "## EDA and master_df generation"
      ]
    },
    {
      "cell_type": "code",
      "execution_count": null,
      "metadata": {
        "id": "KzSJVWi6u3uS"
      },
      "outputs": [],
      "source": [
        "master_df = patient.drop_duplicates(subset=['Patient_ID'], keep='first')\n",
        "master_df = master_df.drop(columns=['BirthMonth', 'OptedOut', 'OptOutDate'], errors='ignore')"
      ]
    },
    {
      "cell_type": "code",
      "execution_count": null,
      "metadata": {
        "id": "ZSIGUPxp2KjG"
      },
      "outputs": [],
      "source": [
        "risk = risk[pd.to_numeric(risk['Patient_ID'], errors='coerce').notnull()]\n",
        "risk['Patient_ID'] = risk['Patient_ID'].astype(int)\n",
        "risk_grouped = risk.groupby('Patient_ID').agg(\n",
        "    {'Name_calc': list, 'Name_orig': list}\n",
        ").reset_index()\n",
        "master_df = pd.merge(master_df, risk_grouped, on='Patient_ID', how='left')\n",
        "master_df = master_df.rename(columns={\n",
        "    'Name_calc': 'Risks',\n",
        "    'Name_orig': 'Risks_orig'\n",
        "    })"
      ]
    },
    {
      "cell_type": "code",
      "execution_count": null,
      "metadata": {
        "id": "jfRguFU61m-A"
      },
      "outputs": [],
      "source": [
        "def remove_duplicates_from_list(x):\n",
        "  if isinstance(x, list):\n",
        "    return list(set(x))\n",
        "  else:\n",
        "    return x\n",
        "\n",
        "master_df['Risk_List'] = master_df['Risks'].apply(remove_duplicates_from_list)"
      ]
    },
    {
      "cell_type": "code",
      "execution_count": null,
      "metadata": {
        "id": "4fSNovZKLds3"
      },
      "outputs": [],
      "source": [
        "def remove_nan_from_risks(row):\n",
        "    risks = row['Risks']\n",
        "    risks_orig = row['Risks_orig']\n",
        "\n",
        "    if isinstance(risks, list) and isinstance(risks_orig, list):\n",
        "        new_risks = []\n",
        "        new_risk_orig = []\n",
        "        for i in range(len(risks)):\n",
        "            if not pd.isna(risks[i]):\n",
        "                new_risks.append(risks[i])\n",
        "                new_risk_orig.append(risks_orig[i])\n",
        "        row['Risks'] = new_risks\n",
        "        row['Risks_orig'] = new_risk_orig\n",
        "    return row\n",
        "\n",
        "master_df = master_df.apply(remove_nan_from_risks, axis=1)"
      ]
    },
    {
      "cell_type": "code",
      "execution_count": null,
      "metadata": {
        "id": "G0QpHZzE2mWQ"
      },
      "outputs": [],
      "source": [
        "import pandas as pd\n",
        "\n",
        "def remove_nan_from_list(x):\n",
        "  if isinstance(x, list):\n",
        "    return [i for i in x if not pd.isna(i)]\n",
        "  else:\n",
        "    return x\n",
        "\n",
        "master_df['Risk_List'] = master_df['Risk_List'].apply(remove_nan_from_list)\n"
      ]
    },
    {
      "cell_type": "code",
      "execution_count": null,
      "metadata": {
        "id": "Nf968Nyo203D"
      },
      "outputs": [],
      "source": [
        "medproc_grouped = medproc.groupby('Patient_ID').agg(\n",
        "    {'Name_orig': list, 'PerformedDate': list}\n",
        ").reset_index()\n",
        "\n",
        "master_df = pd.merge(master_df, medproc_grouped, on='Patient_ID', how='left')\n",
        "master_df = master_df.rename(columns={'Name_orig': 'MedProcs_List', 'PerformedDate': 'MedProcs_Date'})"
      ]
    },
    {
      "cell_type": "code",
      "execution_count": null,
      "metadata": {
        "id": "tyF4jWZLfDID"
      },
      "outputs": [],
      "source": [
        "import pandas as pd\n",
        "def remove_nan_from_medprocs(row):\n",
        "    medprocs = row['MedProcs_List']\n",
        "    dates = row['MedProcs_Date']\n",
        "\n",
        "    if isinstance(medprocs, list) and isinstance(dates, list):\n",
        "        new_medprocs = []\n",
        "        new_dates = []\n",
        "        for i in range(len(medprocs)):\n",
        "            if not pd.isna(medprocs[i]):\n",
        "                new_medprocs.append(medprocs[i])\n",
        "                new_dates.append(dates[i])\n",
        "        row['MedProcs_List'] = new_medprocs\n",
        "        row['MedProcs_Date'] = new_dates\n",
        "    return row\n",
        "\n",
        "master_df = master_df.apply(remove_nan_from_medprocs, axis=1)\n"
      ]
    },
    {
      "cell_type": "code",
      "execution_count": null,
      "metadata": {
        "id": "lq2HZjLb3flY"
      },
      "outputs": [],
      "source": [
        "import datetime\n",
        "\n",
        "current_year = datetime.datetime.now().year\n",
        "master_df['Age'] = current_year - master_df['BirthYear']"
      ]
    },
    {
      "cell_type": "code",
      "execution_count": null,
      "metadata": {
        "id": "phdPIoa19uHo"
      },
      "outputs": [],
      "source": [
        "# Convert StartDate and StopDate to datetime objects, handling errors\n",
        "medication['StartDate'] = pd.to_datetime(medication['StartDate'], errors='coerce')\n",
        "medication['StopDate'] = pd.to_datetime(medication['StopDate'], errors='coerce')\n",
        "\n",
        "# Replace out-of-bounds dates with NaT (Not a Time)\n",
        "medication.loc[medication['StopDate'].dt.year > 2262, 'StopDate'] = pd.NaT\n",
        "\n",
        "# Calculate MedDuration\n",
        "medication['MedDuration'] = (medication['StopDate'] - medication['StartDate']).dt.days"
      ]
    },
    {
      "cell_type": "code",
      "execution_count": null,
      "metadata": {
        "id": "FrEMdAfB4jVV"
      },
      "outputs": [],
      "source": [
        "# Convert 'StartDate' back to string\n",
        "medication['StartDate'] = medication['StartDate'].dt.strftime('%Y-%m-%d')"
      ]
    },
    {
      "cell_type": "code",
      "execution_count": null,
      "metadata": {
        "id": "aCOAaopM_KkA"
      },
      "outputs": [],
      "source": [
        "medication = medication[['Patient_ID', 'StartDate', 'Name_calc', 'MedDuration', 'Reason', 'Frequency', 'Strength', 'Dose', 'UnitOfMeasure']]"
      ]
    },
    {
      "cell_type": "code",
      "execution_count": null,
      "metadata": {
        "id": "Ohcn-5BQ6PM_"
      },
      "outputs": [],
      "source": [
        "medication_grouped = medication.groupby('Patient_ID').agg(\n",
        "    {\n",
        "        'StartDate': list,\n",
        "        'Name_calc': list,\n",
        "        'MedDuration': list,\n",
        "        'Reason': list,\n",
        "        'Frequency': list,\n",
        "        'Strength': list,\n",
        "        'Dose': list,\n",
        "        'UnitOfMeasure': list,\n",
        "    }\n",
        ").reset_index()\n",
        "\n",
        "master_df = pd.merge(master_df, medication_grouped, on='Patient_ID', how='left')\n",
        "master_df = master_df.rename(columns={'StartDate': 'Med_Start_Dates',\n",
        "                                      'Name_calc': 'Medications',\n",
        "                                      'MedDuration': 'Med_Durations',\n",
        "                                      'Reason': 'Med_Reasons',\n",
        "                                      'Frequency': 'Med_Frequencies',\n",
        "                                      'Strength': 'Med_Strengths',\n",
        "                                      'Dose': 'Med_Doses',\n",
        "                                      'UnitOfMeasure': 'Med_UnitOfMeasures',\n",
        "                                      })"
      ]
    },
    {
      "cell_type": "code",
      "execution_count": null,
      "metadata": {
        "id": "VhTxrE0hgZJq"
      },
      "outputs": [],
      "source": [
        "def remove_nan_from_medications(row):\n",
        "    medications = row['Medications']\n",
        "    dates = row['Med_Start_Dates']\n",
        "    durations = row['Med_Durations']\n",
        "    reasons = row['Med_Reasons']\n",
        "    frequencies = row['Med_Frequencies']\n",
        "    strengths = row['Med_Strengths']\n",
        "    doses = row['Med_Doses']\n",
        "    units = row['Med_UnitOfMeasures']\n",
        "\n",
        "    if isinstance(medications, list) and isinstance(dates, list) and isinstance(durations, list):\n",
        "        new_medications = []\n",
        "        new_dates = []\n",
        "        new_durations = []\n",
        "        new_reasons = []\n",
        "        new_frequencies = []\n",
        "        new_strengths = []\n",
        "        new_doses = []\n",
        "        new_units = []\n",
        "\n",
        "        for i in range(len(medications)):\n",
        "            if not pd.isna(medications[i]):\n",
        "                new_medications.append(medications[i])\n",
        "                new_dates.append(dates[i])\n",
        "                new_durations.append(durations[i])\n",
        "                new_reasons.append(reasons[i])\n",
        "                new_frequencies.append(frequencies[i])\n",
        "                new_strengths.append(strengths[i])\n",
        "                new_doses.append(doses[i])\n",
        "                new_units.append(units[i])\n",
        "\n",
        "        row['Medications'] = new_medications\n",
        "        row['Med_Start_Dates'] = new_dates\n",
        "        row['Med_Durations'] = new_durations\n",
        "        row['Med_Reasons'] = new_reasons\n",
        "        row['Med_Frequencies'] = new_frequencies\n",
        "        row['Med_Strengths'] = new_strengths\n",
        "        row['Med_Doses'] = new_doses\n",
        "        row['Med_UnitOfMeasures'] = new_units\n",
        "\n",
        "    return row\n",
        "\n",
        "master_df = master_df.apply(remove_nan_from_medications, axis=1)"
      ]
    },
    {
      "cell_type": "code",
      "execution_count": null,
      "metadata": {
        "id": "7hZLfkFGAUsz"
      },
      "outputs": [],
      "source": [
        "# Remove duplicate Patient_ID from demo df by taking the first one\n",
        "demo = demo.drop_duplicates(subset=['Patient_ID'], keep='first')"
      ]
    },
    {
      "cell_type": "code",
      "execution_count": null,
      "metadata": {
        "id": "IXy44_rDAeIE"
      },
      "outputs": [],
      "source": [
        "demo = demo[['Patient_ID', 'PatientStatus_calc', 'DeceasedYear']]"
      ]
    },
    {
      "cell_type": "code",
      "execution_count": null,
      "metadata": {
        "id": "Wa1P_NvABDJm"
      },
      "outputs": [],
      "source": [
        "# Update PatientStatus_calc based on DeceasedYear\n",
        "demo.loc[demo['DeceasedYear'].notnull(), 'PatientStatus_calc'] = 'Deceased'"
      ]
    },
    {
      "cell_type": "code",
      "execution_count": null,
      "metadata": {
        "id": "VU_m7Ykk6kgg"
      },
      "outputs": [],
      "source": [
        "master_df = pd.merge(master_df, demo, on='Patient_ID', how='left')"
      ]
    },
    {
      "cell_type": "code",
      "execution_count": null,
      "metadata": {
        "id": "HBFxXMDvBmQw"
      },
      "outputs": [],
      "source": [
        "# Recalculate Age based on DeceasedYear where it's not null\n",
        "master_df.loc[master_df['DeceasedYear'].notnull(), 'Age'] = master_df.loc[master_df['DeceasedYear'].notnull(), 'DeceasedYear'] - master_df.loc[master_df['DeceasedYear'].notnull(), 'BirthYear']"
      ]
    },
    {
      "cell_type": "code",
      "execution_count": null,
      "metadata": {
        "id": "9tJeA3a4CxVn"
      },
      "outputs": [],
      "source": [
        "lab = lab[['Patient_ID', 'PerformedDate', 'Name_calc', 'TestResult_calc', 'UpperNormal', 'LowerNormal', 'NormalRange', 'UnitOfMeasure_calc']]"
      ]
    },
    {
      "cell_type": "code",
      "execution_count": null,
      "metadata": {
        "id": "KmePXqNJE9fP"
      },
      "outputs": [],
      "source": [
        "lab_grouped = lab.groupby('Patient_ID').agg(\n",
        "    {\n",
        "        'PerformedDate': list,\n",
        "        'Name_calc': list,\n",
        "        'TestResult_calc': list,\n",
        "        'UpperNormal': list,\n",
        "        'LowerNormal': list,\n",
        "        'NormalRange': list,\n",
        "        'UnitOfMeasure_calc': list,\n",
        "        }\n",
        ").reset_index()\n",
        "\n",
        "master_df = pd.merge(master_df, lab_grouped, on='Patient_ID', how='left')\n",
        "master_df = master_df.rename(columns={\n",
        "                                      'PerformedDate': 'Lab_Performed_Dates',\n",
        "                                      'Name_calc': 'LabTests',\n",
        "                                      'TestResult_calc': 'Lab_Test_Results',\n",
        "                                      'UpperNormal': 'Lab_Upper_Normal',\n",
        "                                      'LowerNormal': 'Lab_Lower_Normal',\n",
        "                                      'NormalRange': 'Lab_Normal_Range',\n",
        "                                      'UnitOfMeasure_calc': 'Lab_UnitOfMeasure',\n",
        "                                      })"
      ]
    },
    {
      "cell_type": "code",
      "execution_count": null,
      "metadata": {
        "id": "I1CkQkP_hjTu"
      },
      "outputs": [],
      "source": [
        "def remove_nan_from_labs(row):\n",
        "    labs = row['LabTests']\n",
        "    dates = row['Lab_Performed_Dates']\n",
        "    results = row['Lab_Test_Results']\n",
        "    upper_normal = row['Lab_Upper_Normal']\n",
        "    lower_normal = row['Lab_Lower_Normal']\n",
        "    normal_range = row['Lab_Normal_Range']\n",
        "    units = row['Lab_UnitOfMeasure']\n",
        "\n",
        "    if isinstance(labs, list) and isinstance(dates, list) and isinstance(results, list):\n",
        "        new_labs = []\n",
        "        new_dates = []\n",
        "        new_results = []\n",
        "        new_upper_normal = []\n",
        "        new_lower_normal = []\n",
        "        new_normal_range = []\n",
        "        new_units = []\n",
        "        for i in range(len(labs)):\n",
        "            if not pd.isna(labs[i]):\n",
        "                new_labs.append(labs[i])\n",
        "                new_dates.append(dates[i])\n",
        "                new_results.append(results[i])\n",
        "                new_upper_normal.append(upper_normal[i])\n",
        "                new_lower_normal.append(lower_normal[i])\n",
        "                new_normal_range.append(normal_range[i])\n",
        "                new_units.append(units[i])\n",
        "        row['LabTests'] = new_labs\n",
        "        row['Lab_Performed_Dates'] = new_dates\n",
        "        row['Lab_Test_Results'] = new_results\n",
        "        row['Lab_Upper_Normal'] = new_upper_normal\n",
        "        row['Lab_Lower_Normal'] = new_lower_normal\n",
        "        row['Lab_Normal_Range'] = new_normal_range\n",
        "        row['Lab_UnitOfMeasure'] = new_units\n",
        "    return row\n",
        "\n",
        "master_df = master_df.apply(remove_nan_from_labs, axis=1)"
      ]
    },
    {
      "cell_type": "code",
      "execution_count": null,
      "metadata": {
        "id": "4Wsz6YapG8RO"
      },
      "outputs": [],
      "source": [
        "health = health[['Patient_ID', 'Encounter_ID', 'DiagnosisCode_calc', 'DiagnosisText_calc', 'DateOfOnset']]"
      ]
    },
    {
      "cell_type": "code",
      "execution_count": null,
      "metadata": {
        "id": "vKBnOheJ-Eyu"
      },
      "outputs": [],
      "source": [
        "health_grouped = health.groupby('Patient_ID').agg(\n",
        "        {\n",
        "        'Encounter_ID': list,\n",
        "        'DiagnosisCode_calc': list,\n",
        "        'DiagnosisText_calc': list,\n",
        "        'DateOfOnset': list\n",
        "        }\n",
        ").reset_index()\n",
        "\n",
        "master_df = pd.merge(master_df, health_grouped, on='Patient_ID', how='left')\n",
        "master_df = master_df.rename(columns={'Encounter_ID': 'Health_condition_Encounter_IDs',\n",
        "                                      'DiagnosisCode_calc': 'ICD-9',\n",
        "                                      'DiagnosisText_calc': 'Overall_Diagnosis_List',\n",
        "                                      'DateOfOnset': 'DateOfOnset_Overall_Diagnosis'})"
      ]
    },
    {
      "cell_type": "code",
      "execution_count": null,
      "metadata": {
        "id": "cPXMr8xuQbSn"
      },
      "outputs": [],
      "source": [
        "def remove_nan_from_health(row):\n",
        "    encounters = row['Health_condition_Encounter_IDs']\n",
        "    codes = row['ICD-9']\n",
        "    texts = row['Overall_Diagnosis_List']\n",
        "    dates = row['DateOfOnset_Overall_Diagnosis']\n",
        "\n",
        "    if isinstance(texts, list):\n",
        "        new_encounters = []\n",
        "        new_codes = []\n",
        "        new_texts = []\n",
        "        new_dates = []\n",
        "        for i in range(len(texts)):\n",
        "            if not pd.isna(texts[i]):\n",
        "                new_encounters.append(encounters[i])\n",
        "                new_codes.append(codes[i])\n",
        "                new_texts.append(texts[i])\n",
        "                new_dates.append(dates[i])\n",
        "\n",
        "        row['Health_condition_Encounter_IDs'] = new_encounters\n",
        "        row['ICD-9'] = new_codes\n",
        "        row['Overall_Diagnosis_List'] = new_texts\n",
        "        row['DateOfOnset_Overall_Diagnosis'] = new_dates\n",
        "    return row\n",
        "\n",
        "master_df = master_df.apply(remove_nan_from_health, axis=1)"
      ]
    },
    {
      "cell_type": "code",
      "execution_count": null,
      "metadata": {
        "id": "LMKhLoHjmIPR"
      },
      "outputs": [],
      "source": [
        "master_df['Overall_Diagnosis'] = master_df['Overall_Diagnosis_List'].apply(remove_duplicates_from_list)\n",
        "master_df['Overall_Diagnosis'] = master_df['Overall_Diagnosis'].apply(remove_nan_from_list)"
      ]
    },
    {
      "cell_type": "code",
      "execution_count": null,
      "metadata": {
        "id": "ebz5-DyHBgsb"
      },
      "outputs": [],
      "source": [
        "encDx = encDx[['Patient_ID', 'Encounter_ID', 'DiagnosisCode_calc', 'DiagnosisText_orig']]"
      ]
    },
    {
      "cell_type": "code",
      "execution_count": null,
      "metadata": {
        "id": "YB-D716RG65d"
      },
      "outputs": [],
      "source": [
        "encounters = encounters[['Patient_ID', 'Encounter_ID', 'EncounterDate', 'Reason_orig']]"
      ]
    },
    {
      "cell_type": "code",
      "execution_count": null,
      "metadata": {
        "id": "TIgQalKYJLEM"
      },
      "outputs": [],
      "source": [
        "encounters_df = pd.merge(encDx, encounters, on='Encounter_ID', how='left')"
      ]
    },
    {
      "cell_type": "code",
      "execution_count": null,
      "metadata": {
        "id": "n6etS73AJZMk"
      },
      "outputs": [],
      "source": [
        "# Filter out rows where Patient_ID_x and Patient_ID_y don't match\n",
        "encounter_df = encounters_df[encounters_df['Patient_ID_x'] == encounters_df['Patient_ID_y']]"
      ]
    },
    {
      "cell_type": "code",
      "execution_count": null,
      "metadata": {
        "id": "jgsDSEh5Jf9x"
      },
      "outputs": [],
      "source": [
        "encounter_df['Patient_ID'] = encounter_df['Patient_ID_x']\n",
        "encounter_df = encounter_df.drop(columns=['Patient_ID_x', 'Patient_ID_y'])"
      ]
    },
    {
      "cell_type": "code",
      "execution_count": null,
      "metadata": {
        "id": "oNqzI9GiJyI7"
      },
      "outputs": [],
      "source": [
        "encounter_grouped = encounter_df.groupby('Patient_ID').agg(list).reset_index()"
      ]
    },
    {
      "cell_type": "code",
      "execution_count": null,
      "metadata": {
        "id": "9Qu-BmxGKW5e"
      },
      "outputs": [],
      "source": [
        "master_df = pd.merge(master_df, encounter_grouped, on='Patient_ID', how='left')\n",
        "master_df = master_df.rename(columns={'Encounter_ID': 'Encounter_IDs',\n",
        "                                      'DiagnosisText_orig': 'EncounterDiagnosisTexts',\n",
        "                                      'DiagnosisCode_calc': 'EncounterDiagnosisCodes',\n",
        "                                      'EncounterDate': 'EncounterDates',\n",
        "                                      'Reason_orig': 'EncounterReasonTexts'})"
      ]
    },
    {
      "cell_type": "code",
      "execution_count": null,
      "metadata": {
        "id": "zG7LNw2LU_pt"
      },
      "outputs": [],
      "source": [
        "master_df['Total_Risks'] = master_df['Risk_List'].apply(lambda x: len(x) if isinstance(x, list) else 0)\n",
        "master_df['Total_Encounters'] = master_df['EncounterDates'].apply(lambda x: len(x) if isinstance(x, list) else 0)\n",
        "master_df['Total_Medications'] = master_df['Medications'].apply(lambda x: len(x) if isinstance(x, list) else 0)\n",
        "master_df['Total_LabTests'] = master_df['Lab_Performed_Dates'].apply(lambda x: len(x) if isinstance(x, list) else 0)\n",
        "master_df['Total_MedProcs'] = master_df['MedProcs_List'].apply(lambda x: len(x) if isinstance(x, list) else 0)\n",
        "master_df['Total_Overall_Diagnoses'] = master_df['Overall_Diagnosis'].apply(lambda x: len(x) if isinstance(x, list) else 0)"
      ]
    },
    {
      "cell_type": "code",
      "execution_count": null,
      "metadata": {
        "id": "sR4iD1vlK5CE"
      },
      "outputs": [],
      "source": [
        "new_column_order = ['Patient_ID', 'Sex', 'BirthYear', 'DeceasedYear', 'Age', 'PatientStatus_calc',\n",
        "                    'Total_Overall_Diagnoses', 'Overall_Diagnosis', 'Overall_Diagnosis_List', 'DateOfOnset_Overall_Diagnosis', 'Health_condition_Encounter_IDs', 'ICD-9', 'Total_Risks',\n",
        "                    'Risk_List', 'Risks', 'Risks_orig', 'Total_Encounters', 'EncounterDates', 'Encounter_IDs', 'EncounterDiagnosisTexts', 'EncounterDiagnosisCodes',\n",
        "                    'EncounterReasonTexts', 'Total_Medications', 'Medications', 'Med_Start_Dates', 'Med_Durations', 'Med_Reasons', 'Med_Frequencies', 'Med_Strengths', 'Med_Doses', 'Med_UnitOfMeasures',\n",
        "                    'Total_LabTests', 'LabTests', 'Lab_Performed_Dates', 'Lab_Test_Results', 'Lab_Upper_Normal', 'Lab_Lower_Normal', 'Lab_Normal_Range', 'Lab_UnitOfMeasure', 'Total_MedProcs', 'MedProcs_List', 'MedProcs_Date']\n",
        "\n",
        "master_df = master_df[new_column_order]"
      ]
    },
    {
      "cell_type": "code",
      "execution_count": null,
      "metadata": {
        "id": "b0L2AC3s_AK1"
      },
      "outputs": [],
      "source": [
        "def clean_dates(date_list):\n",
        "    if isinstance(date_list, list):\n",
        "        return [date_str[:10] if isinstance(date_str, str) else date_str for date_str in date_list]\n",
        "    return date_list"
      ]
    },
    {
      "cell_type": "code",
      "execution_count": null,
      "metadata": {
        "id": "kqRUhQLr_Cd6"
      },
      "outputs": [],
      "source": [
        "master_df['EncounterDates'] = master_df['EncounterDates'].apply(clean_dates)\n",
        "master_df['Lab_Performed_Dates'] = master_df['Lab_Performed_Dates'].apply(clean_dates)"
      ]
    },
    {
      "cell_type": "code",
      "source": [
        "master_df['Sex'] = master_df['Sex'].replace({'MALE': 'Male', 'FEMALE': 'Female'})"
      ],
      "metadata": {
        "id": "R6KL_GKZJzOi"
      },
      "execution_count": null,
      "outputs": []
    },
    {
      "cell_type": "markdown",
      "metadata": {
        "id": "ey8IwchOCZTk"
      },
      "source": [
        "### Chronic diseases"
      ]
    },
    {
      "cell_type": "code",
      "execution_count": null,
      "metadata": {
        "id": "6ncP9ZKfCZTk"
      },
      "outputs": [],
      "source": [
        "chronic_diseases_as_icd_codes = [\"PARKINSON'S DISEASE\", \"DEMENTIAS\", \"DEPRESSIVE DISORDER, NOT ELSEWHERE CLASSIFIED\"]\n",
        "chronic_diseases_as_diagnoses_text = [\"asthma\", \"diabetes\", \"hypertension\", \"copd\"]"
      ]
    },
    {
      "cell_type": "code",
      "execution_count": null,
      "metadata": {
        "id": "tRwbDIOGCZTk"
      },
      "outputs": [],
      "source": [
        "# icd9_df = pd.read_csv('/content/drive/MyDrive/Research/Care4minds/Dataset v1/ICD9_df.csv')\n",
        "# icd9_df"
      ]
    },
    {
      "cell_type": "code",
      "execution_count": null,
      "metadata": {
        "id": "jDONKH6rCZTk"
      },
      "outputs": [],
      "source": [
        "import pandas as pd\n",
        "\n",
        "chronic_diseases_as_icd_codes_lower = [disease.lower() for disease in chronic_diseases_as_icd_codes]\n",
        "chronic_patients = health[health['DiagnosisText_calc'].str.lower().isin(chronic_diseases_as_icd_codes_lower)]\n",
        "chronic_df = chronic_patients[['Patient_ID', 'DiagnosisText_calc']]\n",
        "chronic_df = chronic_df.rename(columns={'DiagnosisText_calc': 'disease'})\n",
        "chronic_df = chronic_df.replace([\"PARKINSON'S DISEASE\", \"DEMENTIAS\", \"DEPRESSIVE DISORDER, NOT ELSEWHERE CLASSIFIED\"], [\"parkinsons\", \"dementia\", \"depression\"])\n",
        "\n",
        "chronic_df"
      ]
    },
    {
      "cell_type": "code",
      "execution_count": null,
      "metadata": {
        "id": "MaWvYjqFCZTk"
      },
      "outputs": [],
      "source": [
        "import pandas as pd\n",
        "\n",
        "def find_chronic_matches(encDx, chronic_diseases):\n",
        "    \"\"\"\n",
        "    Finds matches between diagnosis text and a list of chronic diseases.\n",
        "\n",
        "    Args:\n",
        "        encDx: DataFrame with a 'DiagnosisText_orig' column.\n",
        "        chronic_diseases: A list of chronic disease terms.\n",
        "\n",
        "    Returns:\n",
        "         A new DataFrame with matching Patient_ID and diagnosis text.\n",
        "    \"\"\"\n",
        "    matches_df = pd.DataFrame(columns=['Patient_ID', 'Matching_Word'])\n",
        "    for index, row in encDx.iterrows():\n",
        "      if pd.isna(row[\"DiagnosisText_orig\"]):\n",
        "          continue\n",
        "      diagnosis_text = str(row['DiagnosisText_orig']).lower()\n",
        "      for disease in chronic_diseases:\n",
        "          if disease.lower() in diagnosis_text:\n",
        "              matches_df = pd.concat([matches_df, pd.DataFrame({'Patient_ID': [row['Patient_ID']], 'Matching_Word': [disease]})], ignore_index=True)\n",
        "              break  # Avoid multiple matches for the same disease in the same row\n",
        "\n",
        "    return matches_df\n",
        "\n",
        "chronic_matches = find_chronic_matches(encDx, chronic_diseases_as_diagnoses_text)\n",
        "chronic_matches = chronic_matches.rename(columns={'Matching_Word': 'disease'})\n",
        "chronic_matches"
      ]
    },
    {
      "cell_type": "code",
      "execution_count": null,
      "metadata": {
        "id": "M8chP4XNCZTk"
      },
      "outputs": [],
      "source": [
        "chronic_combined_df = pd.concat([chronic_matches, chronic_df], axis=0, ignore_index=True)\n",
        "chronic_combined_df"
      ]
    },
    {
      "cell_type": "code",
      "execution_count": null,
      "metadata": {
        "id": "lsrRz76nCZTk"
      },
      "outputs": [],
      "source": [
        "chronic_diseases_master_df = chronic_combined_df.groupby('Patient_ID')['disease'].apply(list).reset_index()\n",
        "\n",
        "# Remove duplicates from the 'disease' column in chronic_diseases_master_df\n",
        "chronic_diseases_master_df['disease'] = chronic_diseases_master_df['disease'].apply(lambda x: list(set(x)))"
      ]
    },
    {
      "cell_type": "code",
      "execution_count": null,
      "metadata": {
        "id": "oVFOZAxMCZTk"
      },
      "outputs": [],
      "source": [
        "chronic_diseases_master_df.to_pickle('/Users/syedokun/Downloads/Research/LLM in MH/Care4minds/V 3.0 Dataset/pkl/chronic_diseases_master_df.pkl')"
      ]
    },
    {
      "cell_type": "code",
      "execution_count": null,
      "metadata": {
        "id": "CJs1GHnjC6K0"
      },
      "outputs": [],
      "source": [
        "master_df = pd.merge(master_df, chronic_diseases_master_df, on='Patient_ID', how='left')"
      ]
    },
    {
      "cell_type": "code",
      "execution_count": null,
      "metadata": {
        "id": "QohLFEYEDLQ3"
      },
      "outputs": [],
      "source": [
        "master_df = master_df.rename(columns={'disease': 'Chronic_diseases'})"
      ]
    },
    {
      "cell_type": "code",
      "execution_count": null,
      "metadata": {
        "id": "_rlYs2q_bJ1b"
      },
      "outputs": [],
      "source": [
        "def convert_to_list(x):\n",
        "  try:\n",
        "    return eval(x) if isinstance(x, str) else x\n",
        "  except (SyntaxError, NameError):\n",
        "    return []  # Return an empty list if evaluation fails\n",
        "\n",
        "master_df['Chronic_diseases'] = master_df['Chronic_diseases'].apply(convert_to_list)"
      ]
    },
    {
      "cell_type": "code",
      "execution_count": null,
      "metadata": {
        "id": "3kPJBsZyqC7z"
      },
      "outputs": [],
      "source": [
        "master_df['Total_Chronic_diseases'] = master_df['Chronic_diseases'].apply(lambda x: len(x) if isinstance(x, list) else 0)"
      ]
    },
    {
      "cell_type": "markdown",
      "metadata": {
        "id": "KQr8TM7BxdXl"
      },
      "source": [
        "### Adding grouped diagnoses and medications"
      ]
    },
    {
      "cell_type": "code",
      "source": [
        "grouped_medications = pd.read_csv(\"/Users/syedokun/Downloads/Research/LLM in MH/Care4minds/V 3.0 Dataset/csv/medications_cleaned_grouped.csv\")\n",
        "grouped_diagnoses = pd.read_csv(\"/Users/syedokun/Downloads/Research/LLM in MH/Care4minds/V 3.0 Dataset/csv/mh_diagnoses_cleaned_grouped.csv\")"
      ],
      "metadata": {
        "id": "b5GbIm4hsjyW"
      },
      "execution_count": null,
      "outputs": []
    },
    {
      "cell_type": "code",
      "execution_count": null,
      "metadata": {
        "id": "_-r93fG_xg_P"
      },
      "outputs": [],
      "source": [
        "def group_diagnoses(diagnosis_list, mapping_df):\n",
        "    grouped_diagnoses = []\n",
        "    if isinstance(diagnosis_list, list):\n",
        "        for diagnosis in diagnosis_list:\n",
        "            matching_group = mapping_df[mapping_df['DiagnosisText_calc'] == diagnosis]['DSM5_group']\n",
        "            if not matching_group.empty:\n",
        "                grouped_diagnoses.append(matching_group.iloc[0])\n",
        "            else:\n",
        "              grouped_diagnoses.append(diagnosis) # Keep original diagnosis if no match is found\n",
        "    return grouped_diagnoses\n",
        "\n",
        "master_df['Grouped_Overall_Diagnosis'] = master_df['Overall_Diagnosis'].apply(lambda x: group_diagnoses(x, grouped_diagnoses))\n"
      ]
    },
    {
      "cell_type": "code",
      "execution_count": null,
      "metadata": {
        "id": "tHdqNMlW29F8"
      },
      "outputs": [],
      "source": [
        "master_df['Grouped_Overall_Diagnosis'] = master_df['Grouped_Overall_Diagnosis'].apply(remove_duplicates_from_list)"
      ]
    },
    {
      "cell_type": "code",
      "execution_count": null,
      "metadata": {
        "id": "N5HdbuL228FJ"
      },
      "outputs": [],
      "source": [
        "def group_medications(medication_list, mapping_df):\n",
        "    grouped_medications = []\n",
        "    if isinstance(medication_list, list):\n",
        "        for medication in medication_list:\n",
        "            matching_group = mapping_df[mapping_df['Name_calc'] == medication]['medication_group']\n",
        "            if not matching_group.empty:\n",
        "                grouped_medications.append(matching_group.iloc[0])\n",
        "            else:\n",
        "              grouped_medications.append(medication) # Keep original medication if no match is found\n",
        "    return grouped_medications\n",
        "\n",
        "master_df['Grouped_Medications'] = master_df['Medications'].apply(lambda x: group_medications(x, grouped_medications))"
      ]
    },
    {
      "cell_type": "code",
      "execution_count": null,
      "metadata": {
        "id": "3sgqAaQSEK08"
      },
      "outputs": [],
      "source": [
        "master_df['Grouped_Medications_Set'] = master_df['Grouped_Medications'].apply(remove_duplicates_from_list)"
      ]
    },
    {
      "cell_type": "markdown",
      "metadata": {
        "id": "G1ln9S2J0Xox"
      },
      "source": [
        "### Cleaning up risk"
      ]
    },
    {
      "cell_type": "code",
      "execution_count": null,
      "metadata": {
        "id": "3MfYBP-9y5y2"
      },
      "outputs": [],
      "source": [
        "risk_cleaned = risk[risk['Status_orig'] != 'Never']"
      ]
    },
    {
      "cell_type": "code",
      "execution_count": null,
      "metadata": {
        "id": "onAVBtoR3B49"
      },
      "outputs": [],
      "source": [
        "risk_cleaned = risk_cleaned[pd.to_numeric(risk_cleaned['Patient_ID'], errors='coerce').notnull()]\n",
        "risk_cleaned['Patient_ID'] = risk_cleaned['Patient_ID'].astype(int)\n",
        "\n",
        "risk_cleaned_grouped = risk_cleaned.groupby('Patient_ID').agg(\n",
        "    {'Name_calc': list}\n",
        ").reset_index()\n",
        "master_df = pd.merge(master_df, risk_cleaned_grouped, on='Patient_ID', how='left')\n",
        "master_df = master_df.rename(columns={\n",
        "    'Name_calc': 'Risks_cleaned'\n",
        "    })"
      ]
    },
    {
      "cell_type": "code",
      "execution_count": null,
      "metadata": {
        "id": "B6l_uiYz3B2I"
      },
      "outputs": [],
      "source": [
        "master_df['Risk_cleaned_List'] = master_df['Risks_cleaned'].apply(remove_duplicates_from_list)\n",
        "master_df['Risk_cleaned_List'] = master_df['Risk_cleaned_List'].apply(remove_nan_from_list)"
      ]
    },
    {
      "cell_type": "markdown",
      "source": [
        "### Calculate event frequency columns"
      ],
      "metadata": {
        "id": "L1Um6TVxJ2sN"
      }
    },
    {
      "cell_type": "code",
      "source": [
        "import pandas as pd\n",
        "\n",
        "def calculate_event_frequency(master_df, date_column, events_column):\n",
        "    \"\"\"\n",
        "    Calculates the monthly frequency of events based on a date range and total events.\n",
        "\n",
        "    Args:\n",
        "        master_df: DataFrame containing the data.\n",
        "        date_column: Name of the column with a list of dates.\n",
        "        events_column: Name of the column with the total number of events.\n",
        "\n",
        "    Returns:\n",
        "        DataFrame with an added 'Frequency_per_month' column.\n",
        "    \"\"\"\n",
        "\n",
        "    def calculate_frequency(dates, total_events):\n",
        "        if not isinstance(dates, list) or not dates or total_events is None:\n",
        "          return None\n",
        "\n",
        "        try:\n",
        "            # Convert dates to datetime objects before calculating min/max\n",
        "            dates = [pd.to_datetime(d) for d in dates if isinstance(d, str)]\n",
        "            if not dates:\n",
        "                return None\n",
        "\n",
        "            start_date = min(dates)\n",
        "            end_date = max(dates)\n",
        "\n",
        "            time_delta = end_date - start_date\n",
        "            months = time_delta.days / 30\n",
        "\n",
        "            if months == 0:\n",
        "                return 0\n",
        "\n",
        "            return total_events / months\n",
        "        except Exception as e:\n",
        "            print(\"Error converting dates or calculating frequency.\")\n",
        "            return None\n",
        "\n",
        "    frequency_per_month_column = master_df.apply(lambda row: calculate_frequency(row[date_column], row[events_column]), axis=1)\n",
        "    return frequency_per_month_column"
      ],
      "metadata": {
        "id": "aJyC2KI8J44z"
      },
      "execution_count": null,
      "outputs": []
    },
    {
      "cell_type": "code",
      "source": [
        "master_df[\"Encounter_frequency_per_month\"] = calculate_event_frequency(master_df, 'EncounterDates', 'Total_Encounters')\n",
        "master_df[\"Medication_frequency_per_month\"] = calculate_event_frequency(master_df, 'Med_Start_Dates', 'Total_Medications')\n",
        "master_df[\"Lab_frequency_per_month\"] = calculate_event_frequency(master_df, 'Lab_Performed_Dates', 'Total_LabTests')\n",
        "master_df[\"Medproc_frequency_per_month\"] = calculate_event_frequency(master_df, 'MedProcs_Date', 'Total_MedProcs')"
      ],
      "metadata": {
        "id": "PGqKKdRPJ41v"
      },
      "execution_count": null,
      "outputs": []
    },
    {
      "cell_type": "markdown",
      "metadata": {
        "id": "chSewqABC9T0"
      },
      "source": [
        "## Export"
      ]
    },
    {
      "cell_type": "code",
      "execution_count": null,
      "metadata": {
        "id": "SNP6VbquKFJr"
      },
      "outputs": [],
      "source": [
        "master_df.to_pickle('/content/drive/MyDrive/Research/Care4minds/Dataset v1/master_df_multiple_diagnoses.pkl')"
      ]
    },
    {
      "cell_type": "markdown",
      "metadata": {
        "id": "Z_s0gg6VE1Le"
      },
      "source": [
        "## Environment setup"
      ]
    },
    {
      "cell_type": "code",
      "execution_count": 1,
      "metadata": {
        "colab": {
          "base_uri": "https://localhost:8080/"
        },
        "id": "mTbCK_p5_Ouy",
        "outputId": "a27cc32d-537c-4a2d-9a3e-ca28cc017b77"
      },
      "outputs": [
        {
          "output_type": "stream",
          "name": "stdout",
          "text": [
            "Requirement already satisfied: numpy in /usr/local/lib/python3.11/dist-packages (1.26.4)\n",
            "Collecting numpy\n",
            "  Downloading numpy-2.2.3-cp311-cp311-manylinux_2_17_x86_64.manylinux2014_x86_64.whl.metadata (62 kB)\n",
            "\u001b[2K     \u001b[90m━━━━━━━━━━━━━━━━━━━━━━━━━━━━━━━━━━━━━━━━\u001b[0m \u001b[32m62.0/62.0 kB\u001b[0m \u001b[31m2.8 MB/s\u001b[0m eta \u001b[36m0:00:00\u001b[0m\n",
            "\u001b[?25hDownloading numpy-2.2.3-cp311-cp311-manylinux_2_17_x86_64.manylinux2014_x86_64.whl (16.4 MB)\n",
            "\u001b[2K   \u001b[90m━━━━━━━━━━━━━━━━━━━━━━━━━━━━━━━━━━━━━━━━\u001b[0m \u001b[32m16.4/16.4 MB\u001b[0m \u001b[31m89.2 MB/s\u001b[0m eta \u001b[36m0:00:00\u001b[0m\n",
            "\u001b[?25hInstalling collected packages: numpy\n",
            "  Attempting uninstall: numpy\n",
            "    Found existing installation: numpy 1.26.4\n",
            "    Uninstalling numpy-1.26.4:\n",
            "      Successfully uninstalled numpy-1.26.4\n",
            "\u001b[31mERROR: pip's dependency resolver does not currently take into account all the packages that are installed. This behaviour is the source of the following dependency conflicts.\n",
            "thinc 8.2.5 requires numpy<2.0.0,>=1.19.0; python_version >= \"3.9\", but you have numpy 2.2.3 which is incompatible.\n",
            "langchain 0.3.18 requires numpy<2,>=1.26.4; python_version < \"3.12\", but you have numpy 2.2.3 which is incompatible.\n",
            "numba 0.61.0 requires numpy<2.2,>=1.24, but you have numpy 2.2.3 which is incompatible.\n",
            "tensorflow 2.18.0 requires numpy<2.1.0,>=1.26.0, but you have numpy 2.2.3 which is incompatible.\n",
            "gensim 4.3.3 requires numpy<2.0,>=1.18.5, but you have numpy 2.2.3 which is incompatible.\n",
            "pytensor 2.27.1 requires numpy<2,>=1.17.0, but you have numpy 2.2.3 which is incompatible.\u001b[0m\u001b[31m\n",
            "\u001b[0mSuccessfully installed numpy-2.2.3\n",
            "1.26.4\n"
          ]
        }
      ],
      "source": [
        "!pip install numpy --upgrade\n",
        "\n",
        "# Restart session before this\n",
        "import numpy as np\n",
        "print(np.__version__)"
      ]
    },
    {
      "cell_type": "code",
      "execution_count": 1,
      "metadata": {
        "colab": {
          "base_uri": "https://localhost:8080/"
        },
        "id": "h9R6z2xV92aj",
        "outputId": "f2a6e4dd-4881-4d6c-b6a1-f61a7807d354"
      },
      "outputs": [
        {
          "output_type": "stream",
          "name": "stdout",
          "text": [
            "2.2.3\n"
          ]
        }
      ],
      "source": [
        "import numpy as np\n",
        "import pandas as pd\n",
        "\n",
        "print(np.__version__)"
      ]
    },
    {
      "cell_type": "code",
      "execution_count": 3,
      "metadata": {
        "id": "zqUygO45E5cf"
      },
      "outputs": [],
      "source": [
        "import pandas as pd\n",
        "import numpy as np\n",
        "\n",
        "master_df = pd.read_pickle('/content/drive/MyDrive/Research/Care4minds/Dataset v3/master_df.pkl')"
      ]
    },
    {
      "cell_type": "markdown",
      "metadata": {
        "id": "Y9rEi-3wYvy0"
      },
      "source": [
        "## Predicting Mental Health vs Non Mental Health patients"
      ]
    },
    {
      "cell_type": "code",
      "execution_count": 4,
      "metadata": {
        "colab": {
          "base_uri": "https://localhost:8080/",
          "height": 320
        },
        "id": "SucNDc95ay10",
        "outputId": "f8a1599e-311a-4068-f1b6-ca98d8cb0a05"
      },
      "outputs": [
        {
          "output_type": "execute_result",
          "data": {
            "text/plain": [
              "         Patient_ID      BirthYear  DeceasedYear            Age  \\\n",
              "count  3.521610e+05  352020.000000   6472.000000  352020.000000   \n",
              "mean   6.114862e+15    1969.088745   2011.393387      55.661261   \n",
              "std    3.075609e+15      22.954560      2.985320      22.659236   \n",
              "min    1.002000e+15    1900.000000   1905.000000     -12.000000   \n",
              "25%    4.001000e+15    1953.000000   2010.000000      38.000000   \n",
              "50%    7.001001e+15    1969.000000   2012.000000      56.000000   \n",
              "75%    8.001001e+15    1987.000000   2014.000000      72.000000   \n",
              "max    1.300100e+16    2015.000000   2024.000000     125.000000   \n",
              "\n",
              "       Total_Overall_Diagnoses    Total_Risks  Total_Encounters  \\\n",
              "count            352161.000000  352161.000000     352161.000000   \n",
              "mean                  4.158697       0.851991         33.126047   \n",
              "std                   6.667903       1.215333         40.468479   \n",
              "min                   0.000000       0.000000          0.000000   \n",
              "25%                   0.000000       0.000000         10.000000   \n",
              "50%                   2.000000       0.000000         21.000000   \n",
              "75%                   5.000000       2.000000         42.000000   \n",
              "max                 146.000000       6.000000       1398.000000   \n",
              "\n",
              "       Total_Medications  Total_LabTests  Total_MedProcs  \\\n",
              "count      352161.000000   352161.000000   352161.000000   \n",
              "mean           20.987412       12.778840        3.317537   \n",
              "std            37.950912       24.037546       10.460132   \n",
              "min             0.000000        0.000000        0.000000   \n",
              "25%             2.000000        0.000000        0.000000   \n",
              "50%             8.000000        4.000000        0.000000   \n",
              "75%            23.000000       16.000000        2.000000   \n",
              "max          1070.000000      930.000000      537.000000   \n",
              "\n",
              "       Total_Chronic_diseases  Total_MH_diagnoses  percentage_of_MH_diagnoses  \\\n",
              "count           352161.000000       352161.000000               345336.000000   \n",
              "mean                 0.530479            2.211889                    8.898226   \n",
              "std                  0.756843            5.794101                   17.274509   \n",
              "min                  0.000000            0.000000                    0.000000   \n",
              "25%                  0.000000            0.000000                    0.000000   \n",
              "50%                  0.000000            0.000000                    0.000000   \n",
              "75%                  1.000000            2.000000                   10.000000   \n",
              "max                  6.000000          290.000000                  100.000000   \n",
              "\n",
              "       Encounter_frequency_per_month  Medication_frequency_per_month  \\\n",
              "count                  345336.000000                   289495.000000   \n",
              "mean                        0.633959                        0.604244   \n",
              "std                         1.782385                        3.114208   \n",
              "min                         0.000000                        0.000000   \n",
              "25%                         0.213316                        0.117188   \n",
              "50%                         0.374850                        0.251530   \n",
              "75%                         0.653139                        0.549417   \n",
              "max                       180.000000                      330.000000   \n",
              "\n",
              "       Lab_frequency_per_month  Medproc_frequency_per_month  \n",
              "count            203949.000000                130333.000000  \n",
              "mean                  1.351591                     0.266375  \n",
              "std                  11.334868                     2.602128  \n",
              "min                   0.000000                     0.000000  \n",
              "25%                   0.000000                     0.000000  \n",
              "50%                   0.337271                     0.055814  \n",
              "75%                   0.602679                     0.150823  \n",
              "max                 420.000000                   240.000000  "
            ],
            "text/html": [
              "\n",
              "  <div id=\"df-837e63c3-612c-4af8-a857-2adf5de5b715\" class=\"colab-df-container\">\n",
              "    <div>\n",
              "<style scoped>\n",
              "    .dataframe tbody tr th:only-of-type {\n",
              "        vertical-align: middle;\n",
              "    }\n",
              "\n",
              "    .dataframe tbody tr th {\n",
              "        vertical-align: top;\n",
              "    }\n",
              "\n",
              "    .dataframe thead th {\n",
              "        text-align: right;\n",
              "    }\n",
              "</style>\n",
              "<table border=\"1\" class=\"dataframe\">\n",
              "  <thead>\n",
              "    <tr style=\"text-align: right;\">\n",
              "      <th></th>\n",
              "      <th>Patient_ID</th>\n",
              "      <th>BirthYear</th>\n",
              "      <th>DeceasedYear</th>\n",
              "      <th>Age</th>\n",
              "      <th>Total_Overall_Diagnoses</th>\n",
              "      <th>Total_Risks</th>\n",
              "      <th>Total_Encounters</th>\n",
              "      <th>Total_Medications</th>\n",
              "      <th>Total_LabTests</th>\n",
              "      <th>Total_MedProcs</th>\n",
              "      <th>Total_Chronic_diseases</th>\n",
              "      <th>Total_MH_diagnoses</th>\n",
              "      <th>percentage_of_MH_diagnoses</th>\n",
              "      <th>Encounter_frequency_per_month</th>\n",
              "      <th>Medication_frequency_per_month</th>\n",
              "      <th>Lab_frequency_per_month</th>\n",
              "      <th>Medproc_frequency_per_month</th>\n",
              "    </tr>\n",
              "  </thead>\n",
              "  <tbody>\n",
              "    <tr>\n",
              "      <th>count</th>\n",
              "      <td>3.521610e+05</td>\n",
              "      <td>352020.000000</td>\n",
              "      <td>6472.000000</td>\n",
              "      <td>352020.000000</td>\n",
              "      <td>352161.000000</td>\n",
              "      <td>352161.000000</td>\n",
              "      <td>352161.000000</td>\n",
              "      <td>352161.000000</td>\n",
              "      <td>352161.000000</td>\n",
              "      <td>352161.000000</td>\n",
              "      <td>352161.000000</td>\n",
              "      <td>352161.000000</td>\n",
              "      <td>345336.000000</td>\n",
              "      <td>345336.000000</td>\n",
              "      <td>289495.000000</td>\n",
              "      <td>203949.000000</td>\n",
              "      <td>130333.000000</td>\n",
              "    </tr>\n",
              "    <tr>\n",
              "      <th>mean</th>\n",
              "      <td>6.114862e+15</td>\n",
              "      <td>1969.088745</td>\n",
              "      <td>2011.393387</td>\n",
              "      <td>55.661261</td>\n",
              "      <td>4.158697</td>\n",
              "      <td>0.851991</td>\n",
              "      <td>33.126047</td>\n",
              "      <td>20.987412</td>\n",
              "      <td>12.778840</td>\n",
              "      <td>3.317537</td>\n",
              "      <td>0.530479</td>\n",
              "      <td>2.211889</td>\n",
              "      <td>8.898226</td>\n",
              "      <td>0.633959</td>\n",
              "      <td>0.604244</td>\n",
              "      <td>1.351591</td>\n",
              "      <td>0.266375</td>\n",
              "    </tr>\n",
              "    <tr>\n",
              "      <th>std</th>\n",
              "      <td>3.075609e+15</td>\n",
              "      <td>22.954560</td>\n",
              "      <td>2.985320</td>\n",
              "      <td>22.659236</td>\n",
              "      <td>6.667903</td>\n",
              "      <td>1.215333</td>\n",
              "      <td>40.468479</td>\n",
              "      <td>37.950912</td>\n",
              "      <td>24.037546</td>\n",
              "      <td>10.460132</td>\n",
              "      <td>0.756843</td>\n",
              "      <td>5.794101</td>\n",
              "      <td>17.274509</td>\n",
              "      <td>1.782385</td>\n",
              "      <td>3.114208</td>\n",
              "      <td>11.334868</td>\n",
              "      <td>2.602128</td>\n",
              "    </tr>\n",
              "    <tr>\n",
              "      <th>min</th>\n",
              "      <td>1.002000e+15</td>\n",
              "      <td>1900.000000</td>\n",
              "      <td>1905.000000</td>\n",
              "      <td>-12.000000</td>\n",
              "      <td>0.000000</td>\n",
              "      <td>0.000000</td>\n",
              "      <td>0.000000</td>\n",
              "      <td>0.000000</td>\n",
              "      <td>0.000000</td>\n",
              "      <td>0.000000</td>\n",
              "      <td>0.000000</td>\n",
              "      <td>0.000000</td>\n",
              "      <td>0.000000</td>\n",
              "      <td>0.000000</td>\n",
              "      <td>0.000000</td>\n",
              "      <td>0.000000</td>\n",
              "      <td>0.000000</td>\n",
              "    </tr>\n",
              "    <tr>\n",
              "      <th>25%</th>\n",
              "      <td>4.001000e+15</td>\n",
              "      <td>1953.000000</td>\n",
              "      <td>2010.000000</td>\n",
              "      <td>38.000000</td>\n",
              "      <td>0.000000</td>\n",
              "      <td>0.000000</td>\n",
              "      <td>10.000000</td>\n",
              "      <td>2.000000</td>\n",
              "      <td>0.000000</td>\n",
              "      <td>0.000000</td>\n",
              "      <td>0.000000</td>\n",
              "      <td>0.000000</td>\n",
              "      <td>0.000000</td>\n",
              "      <td>0.213316</td>\n",
              "      <td>0.117188</td>\n",
              "      <td>0.000000</td>\n",
              "      <td>0.000000</td>\n",
              "    </tr>\n",
              "    <tr>\n",
              "      <th>50%</th>\n",
              "      <td>7.001001e+15</td>\n",
              "      <td>1969.000000</td>\n",
              "      <td>2012.000000</td>\n",
              "      <td>56.000000</td>\n",
              "      <td>2.000000</td>\n",
              "      <td>0.000000</td>\n",
              "      <td>21.000000</td>\n",
              "      <td>8.000000</td>\n",
              "      <td>4.000000</td>\n",
              "      <td>0.000000</td>\n",
              "      <td>0.000000</td>\n",
              "      <td>0.000000</td>\n",
              "      <td>0.000000</td>\n",
              "      <td>0.374850</td>\n",
              "      <td>0.251530</td>\n",
              "      <td>0.337271</td>\n",
              "      <td>0.055814</td>\n",
              "    </tr>\n",
              "    <tr>\n",
              "      <th>75%</th>\n",
              "      <td>8.001001e+15</td>\n",
              "      <td>1987.000000</td>\n",
              "      <td>2014.000000</td>\n",
              "      <td>72.000000</td>\n",
              "      <td>5.000000</td>\n",
              "      <td>2.000000</td>\n",
              "      <td>42.000000</td>\n",
              "      <td>23.000000</td>\n",
              "      <td>16.000000</td>\n",
              "      <td>2.000000</td>\n",
              "      <td>1.000000</td>\n",
              "      <td>2.000000</td>\n",
              "      <td>10.000000</td>\n",
              "      <td>0.653139</td>\n",
              "      <td>0.549417</td>\n",
              "      <td>0.602679</td>\n",
              "      <td>0.150823</td>\n",
              "    </tr>\n",
              "    <tr>\n",
              "      <th>max</th>\n",
              "      <td>1.300100e+16</td>\n",
              "      <td>2015.000000</td>\n",
              "      <td>2024.000000</td>\n",
              "      <td>125.000000</td>\n",
              "      <td>146.000000</td>\n",
              "      <td>6.000000</td>\n",
              "      <td>1398.000000</td>\n",
              "      <td>1070.000000</td>\n",
              "      <td>930.000000</td>\n",
              "      <td>537.000000</td>\n",
              "      <td>6.000000</td>\n",
              "      <td>290.000000</td>\n",
              "      <td>100.000000</td>\n",
              "      <td>180.000000</td>\n",
              "      <td>330.000000</td>\n",
              "      <td>420.000000</td>\n",
              "      <td>240.000000</td>\n",
              "    </tr>\n",
              "  </tbody>\n",
              "</table>\n",
              "</div>\n",
              "    <div class=\"colab-df-buttons\">\n",
              "\n",
              "  <div class=\"colab-df-container\">\n",
              "    <button class=\"colab-df-convert\" onclick=\"convertToInteractive('df-837e63c3-612c-4af8-a857-2adf5de5b715')\"\n",
              "            title=\"Convert this dataframe to an interactive table.\"\n",
              "            style=\"display:none;\">\n",
              "\n",
              "  <svg xmlns=\"http://www.w3.org/2000/svg\" height=\"24px\" viewBox=\"0 -960 960 960\">\n",
              "    <path d=\"M120-120v-720h720v720H120Zm60-500h600v-160H180v160Zm220 220h160v-160H400v160Zm0 220h160v-160H400v160ZM180-400h160v-160H180v160Zm440 0h160v-160H620v160ZM180-180h160v-160H180v160Zm440 0h160v-160H620v160Z\"/>\n",
              "  </svg>\n",
              "    </button>\n",
              "\n",
              "  <style>\n",
              "    .colab-df-container {\n",
              "      display:flex;\n",
              "      gap: 12px;\n",
              "    }\n",
              "\n",
              "    .colab-df-convert {\n",
              "      background-color: #E8F0FE;\n",
              "      border: none;\n",
              "      border-radius: 50%;\n",
              "      cursor: pointer;\n",
              "      display: none;\n",
              "      fill: #1967D2;\n",
              "      height: 32px;\n",
              "      padding: 0 0 0 0;\n",
              "      width: 32px;\n",
              "    }\n",
              "\n",
              "    .colab-df-convert:hover {\n",
              "      background-color: #E2EBFA;\n",
              "      box-shadow: 0px 1px 2px rgba(60, 64, 67, 0.3), 0px 1px 3px 1px rgba(60, 64, 67, 0.15);\n",
              "      fill: #174EA6;\n",
              "    }\n",
              "\n",
              "    .colab-df-buttons div {\n",
              "      margin-bottom: 4px;\n",
              "    }\n",
              "\n",
              "    [theme=dark] .colab-df-convert {\n",
              "      background-color: #3B4455;\n",
              "      fill: #D2E3FC;\n",
              "    }\n",
              "\n",
              "    [theme=dark] .colab-df-convert:hover {\n",
              "      background-color: #434B5C;\n",
              "      box-shadow: 0px 1px 3px 1px rgba(0, 0, 0, 0.15);\n",
              "      filter: drop-shadow(0px 1px 2px rgba(0, 0, 0, 0.3));\n",
              "      fill: #FFFFFF;\n",
              "    }\n",
              "  </style>\n",
              "\n",
              "    <script>\n",
              "      const buttonEl =\n",
              "        document.querySelector('#df-837e63c3-612c-4af8-a857-2adf5de5b715 button.colab-df-convert');\n",
              "      buttonEl.style.display =\n",
              "        google.colab.kernel.accessAllowed ? 'block' : 'none';\n",
              "\n",
              "      async function convertToInteractive(key) {\n",
              "        const element = document.querySelector('#df-837e63c3-612c-4af8-a857-2adf5de5b715');\n",
              "        const dataTable =\n",
              "          await google.colab.kernel.invokeFunction('convertToInteractive',\n",
              "                                                    [key], {});\n",
              "        if (!dataTable) return;\n",
              "\n",
              "        const docLinkHtml = 'Like what you see? Visit the ' +\n",
              "          '<a target=\"_blank\" href=https://colab.research.google.com/notebooks/data_table.ipynb>data table notebook</a>'\n",
              "          + ' to learn more about interactive tables.';\n",
              "        element.innerHTML = '';\n",
              "        dataTable['output_type'] = 'display_data';\n",
              "        await google.colab.output.renderOutput(dataTable, element);\n",
              "        const docLink = document.createElement('div');\n",
              "        docLink.innerHTML = docLinkHtml;\n",
              "        element.appendChild(docLink);\n",
              "      }\n",
              "    </script>\n",
              "  </div>\n",
              "\n",
              "\n",
              "<div id=\"df-9e0192d2-af8e-4268-865d-cc3cd050c891\">\n",
              "  <button class=\"colab-df-quickchart\" onclick=\"quickchart('df-9e0192d2-af8e-4268-865d-cc3cd050c891')\"\n",
              "            title=\"Suggest charts\"\n",
              "            style=\"display:none;\">\n",
              "\n",
              "<svg xmlns=\"http://www.w3.org/2000/svg\" height=\"24px\"viewBox=\"0 0 24 24\"\n",
              "     width=\"24px\">\n",
              "    <g>\n",
              "        <path d=\"M19 3H5c-1.1 0-2 .9-2 2v14c0 1.1.9 2 2 2h14c1.1 0 2-.9 2-2V5c0-1.1-.9-2-2-2zM9 17H7v-7h2v7zm4 0h-2V7h2v10zm4 0h-2v-4h2v4z\"/>\n",
              "    </g>\n",
              "</svg>\n",
              "  </button>\n",
              "\n",
              "<style>\n",
              "  .colab-df-quickchart {\n",
              "      --bg-color: #E8F0FE;\n",
              "      --fill-color: #1967D2;\n",
              "      --hover-bg-color: #E2EBFA;\n",
              "      --hover-fill-color: #174EA6;\n",
              "      --disabled-fill-color: #AAA;\n",
              "      --disabled-bg-color: #DDD;\n",
              "  }\n",
              "\n",
              "  [theme=dark] .colab-df-quickchart {\n",
              "      --bg-color: #3B4455;\n",
              "      --fill-color: #D2E3FC;\n",
              "      --hover-bg-color: #434B5C;\n",
              "      --hover-fill-color: #FFFFFF;\n",
              "      --disabled-bg-color: #3B4455;\n",
              "      --disabled-fill-color: #666;\n",
              "  }\n",
              "\n",
              "  .colab-df-quickchart {\n",
              "    background-color: var(--bg-color);\n",
              "    border: none;\n",
              "    border-radius: 50%;\n",
              "    cursor: pointer;\n",
              "    display: none;\n",
              "    fill: var(--fill-color);\n",
              "    height: 32px;\n",
              "    padding: 0;\n",
              "    width: 32px;\n",
              "  }\n",
              "\n",
              "  .colab-df-quickchart:hover {\n",
              "    background-color: var(--hover-bg-color);\n",
              "    box-shadow: 0 1px 2px rgba(60, 64, 67, 0.3), 0 1px 3px 1px rgba(60, 64, 67, 0.15);\n",
              "    fill: var(--button-hover-fill-color);\n",
              "  }\n",
              "\n",
              "  .colab-df-quickchart-complete:disabled,\n",
              "  .colab-df-quickchart-complete:disabled:hover {\n",
              "    background-color: var(--disabled-bg-color);\n",
              "    fill: var(--disabled-fill-color);\n",
              "    box-shadow: none;\n",
              "  }\n",
              "\n",
              "  .colab-df-spinner {\n",
              "    border: 2px solid var(--fill-color);\n",
              "    border-color: transparent;\n",
              "    border-bottom-color: var(--fill-color);\n",
              "    animation:\n",
              "      spin 1s steps(1) infinite;\n",
              "  }\n",
              "\n",
              "  @keyframes spin {\n",
              "    0% {\n",
              "      border-color: transparent;\n",
              "      border-bottom-color: var(--fill-color);\n",
              "      border-left-color: var(--fill-color);\n",
              "    }\n",
              "    20% {\n",
              "      border-color: transparent;\n",
              "      border-left-color: var(--fill-color);\n",
              "      border-top-color: var(--fill-color);\n",
              "    }\n",
              "    30% {\n",
              "      border-color: transparent;\n",
              "      border-left-color: var(--fill-color);\n",
              "      border-top-color: var(--fill-color);\n",
              "      border-right-color: var(--fill-color);\n",
              "    }\n",
              "    40% {\n",
              "      border-color: transparent;\n",
              "      border-right-color: var(--fill-color);\n",
              "      border-top-color: var(--fill-color);\n",
              "    }\n",
              "    60% {\n",
              "      border-color: transparent;\n",
              "      border-right-color: var(--fill-color);\n",
              "    }\n",
              "    80% {\n",
              "      border-color: transparent;\n",
              "      border-right-color: var(--fill-color);\n",
              "      border-bottom-color: var(--fill-color);\n",
              "    }\n",
              "    90% {\n",
              "      border-color: transparent;\n",
              "      border-bottom-color: var(--fill-color);\n",
              "    }\n",
              "  }\n",
              "</style>\n",
              "\n",
              "  <script>\n",
              "    async function quickchart(key) {\n",
              "      const quickchartButtonEl =\n",
              "        document.querySelector('#' + key + ' button');\n",
              "      quickchartButtonEl.disabled = true;  // To prevent multiple clicks.\n",
              "      quickchartButtonEl.classList.add('colab-df-spinner');\n",
              "      try {\n",
              "        const charts = await google.colab.kernel.invokeFunction(\n",
              "            'suggestCharts', [key], {});\n",
              "      } catch (error) {\n",
              "        console.error('Error during call to suggestCharts:', error);\n",
              "      }\n",
              "      quickchartButtonEl.classList.remove('colab-df-spinner');\n",
              "      quickchartButtonEl.classList.add('colab-df-quickchart-complete');\n",
              "    }\n",
              "    (() => {\n",
              "      let quickchartButtonEl =\n",
              "        document.querySelector('#df-9e0192d2-af8e-4268-865d-cc3cd050c891 button');\n",
              "      quickchartButtonEl.style.display =\n",
              "        google.colab.kernel.accessAllowed ? 'block' : 'none';\n",
              "    })();\n",
              "  </script>\n",
              "</div>\n",
              "\n",
              "    </div>\n",
              "  </div>\n"
            ],
            "application/vnd.google.colaboratory.intrinsic+json": {
              "type": "dataframe",
              "summary": "{\n  \"name\": \"master_df\",\n  \"rows\": 8,\n  \"fields\": [\n    {\n      \"column\": \"Patient_ID\",\n      \"properties\": {\n        \"dtype\": \"number\",\n        \"std\": 4197808175917952.0,\n        \"min\": 352161.0,\n        \"max\": 1.300100000002726e+16,\n        \"num_unique_values\": 8,\n        \"samples\": [\n          6114862084715005.0,\n          7001000705022440.0,\n          352161.0\n        ],\n        \"semantic_type\": \"\",\n        \"description\": \"\"\n      }\n    },\n    {\n      \"column\": \"BirthYear\",\n      \"properties\": {\n        \"dtype\": \"number\",\n        \"std\": 123862.93375017359,\n        \"min\": 22.954560244758344,\n        \"max\": 352020.0,\n        \"num_unique_values\": 8,\n        \"samples\": [\n          1969.0887449576728,\n          1969.0,\n          352020.0\n        ],\n        \"semantic_type\": \"\",\n        \"description\": \"\"\n      }\n    },\n    {\n      \"column\": \"DeceasedYear\",\n      \"properties\": {\n        \"dtype\": \"number\",\n        \"std\": 1822.3166278454134,\n        \"min\": 2.985320210248919,\n        \"max\": 6472.0,\n        \"num_unique_values\": 8,\n        \"samples\": [\n          2011.3933868974043,\n          2012.0,\n          6472.0\n        ],\n        \"semantic_type\": \"\",\n        \"description\": \"\"\n      }\n    },\n    {\n      \"column\": \"Age\",\n      \"properties\": {\n        \"dtype\": \"number\",\n        \"std\": 124439.82340560602,\n        \"min\": -12.0,\n        \"max\": 352020.0,\n        \"num_unique_values\": 8,\n        \"samples\": [\n          55.66126072382251,\n          56.0,\n          352020.0\n        ],\n        \"semantic_type\": \"\",\n        \"description\": \"\"\n      }\n    },\n    {\n      \"column\": \"Total_Overall_Diagnoses\",\n      \"properties\": {\n        \"dtype\": \"number\",\n        \"std\": 124499.45117372718,\n        \"min\": 0.0,\n        \"max\": 352161.0,\n        \"num_unique_values\": 7,\n        \"samples\": [\n          352161.0,\n          4.158697300382496,\n          5.0\n        ],\n        \"semantic_type\": \"\",\n        \"description\": \"\"\n      }\n    },\n    {\n      \"column\": \"Total_Risks\",\n      \"properties\": {\n        \"dtype\": \"number\",\n        \"std\": 124507.2071239799,\n        \"min\": 0.0,\n        \"max\": 352161.0,\n        \"num_unique_values\": 6,\n        \"samples\": [\n          352161.0,\n          0.8519909927561542,\n          6.0\n        ],\n        \"semantic_type\": \"\",\n        \"description\": \"\"\n      }\n    },\n    {\n      \"column\": \"Total_Encounters\",\n      \"properties\": {\n        \"dtype\": \"number\",\n        \"std\": 124430.63094128661,\n        \"min\": 0.0,\n        \"max\": 352161.0,\n        \"num_unique_values\": 8,\n        \"samples\": [\n          33.126047461246415,\n          21.0,\n          352161.0\n        ],\n        \"semantic_type\": \"\",\n        \"description\": \"\"\n      }\n    },\n    {\n      \"column\": \"Total_Medications\",\n      \"properties\": {\n        \"dtype\": \"number\",\n        \"std\": 124449.57668267495,\n        \"min\": 0.0,\n        \"max\": 352161.0,\n        \"num_unique_values\": 8,\n        \"samples\": [\n          20.98741200757608,\n          8.0,\n          352161.0\n        ],\n        \"semantic_type\": \"\",\n        \"description\": \"\"\n      }\n    },\n    {\n      \"column\": \"Total_LabTests\",\n      \"properties\": {\n        \"dtype\": \"number\",\n        \"std\": 124458.29095197684,\n        \"min\": 0.0,\n        \"max\": 352161.0,\n        \"num_unique_values\": 7,\n        \"samples\": [\n          352161.0,\n          12.778839792026941,\n          16.0\n        ],\n        \"semantic_type\": \"\",\n        \"description\": \"\"\n      }\n    },\n    {\n      \"column\": \"Total_MedProcs\",\n      \"properties\": {\n        \"dtype\": \"number\",\n        \"std\": 124479.93659036329,\n        \"min\": 0.0,\n        \"max\": 352161.0,\n        \"num_unique_values\": 6,\n        \"samples\": [\n          352161.0,\n          3.3175365812795854,\n          537.0\n        ],\n        \"semantic_type\": \"\",\n        \"description\": \"\"\n      }\n    },\n    {\n      \"column\": \"Total_Chronic_diseases\",\n      \"properties\": {\n        \"dtype\": \"number\",\n        \"std\": 124507.29702785022,\n        \"min\": 0.0,\n        \"max\": 352161.0,\n        \"num_unique_values\": 6,\n        \"samples\": [\n          352161.0,\n          0.530478957067932,\n          6.0\n        ],\n        \"semantic_type\": \"\",\n        \"description\": \"\"\n      }\n    },\n    {\n      \"column\": \"Total_MH_diagnoses\",\n      \"properties\": {\n        \"dtype\": \"number\",\n        \"std\": 124492.60389422881,\n        \"min\": 0.0,\n        \"max\": 352161.0,\n        \"num_unique_values\": 6,\n        \"samples\": [\n          352161.0,\n          2.211888880370058,\n          290.0\n        ],\n        \"semantic_type\": \"\",\n        \"description\": \"\"\n      }\n    },\n    {\n      \"column\": \"percentage_of_MH_diagnoses\",\n      \"properties\": {\n        \"dtype\": \"number\",\n        \"std\": 122087.84051235966,\n        \"min\": 0.0,\n        \"max\": 345336.0,\n        \"num_unique_values\": 6,\n        \"samples\": [\n          345336.0,\n          8.898225710276689,\n          100.0\n        ],\n        \"semantic_type\": \"\",\n        \"description\": \"\"\n      }\n    },\n    {\n      \"column\": \"Encounter_frequency_per_month\",\n      \"properties\": {\n        \"dtype\": \"number\",\n        \"std\": 122085.45372134962,\n        \"min\": 0.0,\n        \"max\": 345336.0,\n        \"num_unique_values\": 8,\n        \"samples\": [\n          0.6339593326372941,\n          0.3748500503869072,\n          345336.0\n        ],\n        \"semantic_type\": \"\",\n        \"description\": \"\"\n      }\n    },\n    {\n      \"column\": \"Medication_frequency_per_month\",\n      \"properties\": {\n        \"dtype\": \"number\",\n        \"std\": 102335.10196197555,\n        \"min\": 0.0,\n        \"max\": 289495.0,\n        \"num_unique_values\": 8,\n        \"samples\": [\n          0.6042441038059253,\n          0.2515295717199184,\n          289495.0\n        ],\n        \"semantic_type\": \"\",\n        \"description\": \"\"\n      }\n    },\n    {\n      \"column\": \"Lab_frequency_per_month\",\n      \"properties\": {\n        \"dtype\": \"number\",\n        \"std\": 72085.10732317714,\n        \"min\": 0.0,\n        \"max\": 203949.0,\n        \"num_unique_values\": 7,\n        \"samples\": [\n          203949.0,\n          1.351590567696614,\n          0.6026785714285714\n        ],\n        \"semantic_type\": \"\",\n        \"description\": \"\"\n      }\n    },\n    {\n      \"column\": \"Medproc_frequency_per_month\",\n      \"properties\": {\n        \"dtype\": \"number\",\n        \"std\": 46067.47314071009,\n        \"min\": 0.0,\n        \"max\": 130333.0,\n        \"num_unique_values\": 7,\n        \"samples\": [\n          130333.0,\n          0.26637516406847567,\n          0.15082266910420475\n        ],\n        \"semantic_type\": \"\",\n        \"description\": \"\"\n      }\n    }\n  ]\n}"
            }
          },
          "metadata": {},
          "execution_count": 4
        }
      ],
      "source": [
        "master_df.describe()"
      ]
    },
    {
      "cell_type": "code",
      "source": [
        "master_df.columns"
      ],
      "metadata": {
        "colab": {
          "base_uri": "https://localhost:8080/"
        },
        "id": "oidNcf88Idog",
        "outputId": "abe260b5-e434-478b-811a-007eddae02cd"
      },
      "execution_count": 5,
      "outputs": [
        {
          "output_type": "execute_result",
          "data": {
            "text/plain": [
              "Index(['Patient_ID', 'Sex', 'BirthYear', 'DeceasedYear', 'Age',\n",
              "       'PatientStatus_calc', 'Total_Overall_Diagnoses', 'Overall_Diagnosis',\n",
              "       'Overall_Diagnosis_List', 'DateOfOnset_Overall_Diagnosis',\n",
              "       'Health_condition_Encounter_IDs', 'ICD-9', 'Total_Risks', 'Risk_List',\n",
              "       'Risks', 'Risks_orig', 'Total_Encounters', 'EncounterDates',\n",
              "       'Encounter_IDs', 'EncounterDiagnosisTexts', 'EncounterDiagnosisCodes',\n",
              "       'EncounterReasonTexts', 'Total_Medications', 'Medications',\n",
              "       'Med_Start_Dates', 'Med_Durations', 'Med_Reasons', 'Med_Frequencies',\n",
              "       'Med_Strengths', 'Med_Doses', 'Med_UnitOfMeasures', 'Total_LabTests',\n",
              "       'LabTests', 'Lab_Performed_Dates', 'Lab_Test_Results',\n",
              "       'Lab_Upper_Normal', 'Lab_Lower_Normal', 'Lab_Normal_Range',\n",
              "       'Lab_UnitOfMeasure', 'Total_MedProcs', 'MedProcs_List', 'MedProcs_Date',\n",
              "       'Chronic_diseases', 'Total_Chronic_diseases',\n",
              "       'Grouped_Overall_Diagnosis', 'Grouped_Medications',\n",
              "       'Grouped_Medications_Set', 'Risks_cleaned', 'Risk_cleaned_List',\n",
              "       'Total_MH_diagnoses', 'percentage_of_MH_diagnoses',\n",
              "       'Encounter_frequency_per_month', 'Medication_frequency_per_month',\n",
              "       'Lab_frequency_per_month', 'Medproc_frequency_per_month'],\n",
              "      dtype='object')"
            ]
          },
          "metadata": {},
          "execution_count": 5
        }
      ]
    },
    {
      "cell_type": "code",
      "source": [
        "test_df = master_df[['Sex', 'Age', 'PatientStatus_calc', 'Total_Overall_Diagnoses', 'Total_Risks', 'Total_Encounters', 'Total_Medications', 'Total_LabTests', 'Total_Chronic_diseases', 'Encounter_frequency_per_month', 'Medication_frequency_per_month', 'Lab_frequency_per_month', 'Medproc_frequency_per_month', 'Grouped_Overall_Diagnosis']].copy()"
      ],
      "metadata": {
        "id": "RsWG_hT5Hnp3"
      },
      "execution_count": 6,
      "outputs": []
    },
    {
      "cell_type": "code",
      "execution_count": 7,
      "metadata": {
        "id": "cWv9NbIzdp0y"
      },
      "outputs": [],
      "source": [
        "test_df['MH'] = 1\n",
        "\n",
        "# Define the condition for 'Non Mental Health Disorders' or empty list\n",
        "condition = test_df['Grouped_Overall_Diagnosis'].apply(lambda x: isinstance(x, list) and (x == ['Non Mental Health Disorders'] or len(x) == 0) or not isinstance(x,list))\n",
        "\n",
        "test_df.loc[condition, 'MH'] = 0\n"
      ]
    },
    {
      "cell_type": "code",
      "source": [
        "test_df = test_df.drop(['Grouped_Overall_Diagnosis'], axis=1)"
      ],
      "metadata": {
        "id": "HyHzLDuIK4cP"
      },
      "execution_count": 8,
      "outputs": []
    },
    {
      "cell_type": "code",
      "execution_count": 9,
      "metadata": {
        "colab": {
          "base_uri": "https://localhost:8080/"
        },
        "id": "dtAkUYD4aHZg",
        "outputId": "1c9131d1-ed24-4b10-9954-000f79e355d0"
      },
      "outputs": [
        {
          "output_type": "execute_result",
          "data": {
            "text/plain": [
              "Index(['Sex', 'Age', 'PatientStatus_calc', 'Total_Overall_Diagnoses',\n",
              "       'Total_Risks', 'Total_Encounters', 'Total_Medications',\n",
              "       'Total_LabTests', 'Total_Chronic_diseases',\n",
              "       'Encounter_frequency_per_month', 'Medication_frequency_per_month',\n",
              "       'Lab_frequency_per_month', 'Medproc_frequency_per_month', 'MH'],\n",
              "      dtype='object')"
            ]
          },
          "metadata": {},
          "execution_count": 9
        }
      ],
      "source": [
        "test_df.columns"
      ]
    },
    {
      "cell_type": "code",
      "source": [
        "import matplotlib.pyplot as plt\n",
        "import seaborn as sns\n",
        "\n",
        "corr_df = test_df[['Age', 'Total_Overall_Diagnoses', 'Total_Risks', 'Total_Encounters', 'Total_Medications', 'Total_LabTests', 'Total_Chronic_diseases', 'Encounter_frequency_per_month', 'Medication_frequency_per_month', 'Lab_frequency_per_month', 'Medproc_frequency_per_month']].copy()\n",
        "\n",
        "correlation_matrix = corr_df.corr()\n",
        "\n",
        "# Create a heatmap\n",
        "plt.figure(figsize=(12, 10))\n",
        "sns.heatmap(correlation_matrix, annot=True, cmap='coolwarm', fmt=\".2f\")\n",
        "plt.title('Correlation Matrix of Variables')\n",
        "plt.show()"
      ],
      "metadata": {
        "colab": {
          "base_uri": "https://localhost:8080/",
          "height": 849
        },
        "id": "xn28ZnL5WL55",
        "outputId": "e2d6e21a-2abb-4ba6-ba7d-ecc2b97060d7"
      },
      "execution_count": 10,
      "outputs": [
        {
          "output_type": "display_data",
          "data": {
            "text/plain": [
              "<Figure size 1200x1000 with 2 Axes>"
            ],
            "image/png": "[encoded data removed]"
          },
          "metadata": {}
        }
      ]
    },
    {
      "cell_type": "code",
      "execution_count": 11,
      "metadata": {
        "id": "QInWSo7xa8lK"
      },
      "outputs": [],
      "source": [
        "import pandas as pd\n",
        "\n",
        "def create_one_hot_encoding(df, column_name, new_df):\n",
        "    \"\"\"Creates one-hot encoding for a given column and adds it to a new DataFrame.\n",
        "    \"\"\"\n",
        "    if column_name not in df.columns:\n",
        "        print(f\"Error: '{column_name}' column not found in the DataFrame.\")\n",
        "        return new_df\n",
        "\n",
        "    all_categories = set()\n",
        "    for items in df[column_name]:\n",
        "        if isinstance(items, list):\n",
        "            for item in items:\n",
        "                all_categories.add(item)\n",
        "\n",
        "    for category in all_categories:\n",
        "        new_df[category] = df[column_name].apply(lambda x: 1 if isinstance(x, list) and category in x else 0)\n",
        "\n",
        "    return new_df\n",
        "\n",
        "test_df = create_one_hot_encoding(master_df, 'Risk_cleaned_List', test_df)\n",
        "test_df = create_one_hot_encoding(master_df, 'Grouped_Medications_Set', test_df)\n"
      ]
    },
    {
      "cell_type": "markdown",
      "source": [
        "### K-NN"
      ],
      "metadata": {
        "id": "gufeTjMtVhkV"
      }
    },
    {
      "cell_type": "code",
      "execution_count": 12,
      "metadata": {
        "colab": {
          "base_uri": "https://localhost:8080/"
        },
        "id": "V9wALtINbcpb",
        "outputId": "4a2dee13-9157-4e4e-e1a5-429b0e1d1574"
      },
      "outputs": [
        {
          "output_type": "stream",
          "name": "stdout",
          "text": [
            "              precision    recall  f1-score   support\n",
            "\n",
            "           0       0.81      0.89      0.85     52058\n",
            "           1       0.58      0.42      0.49     18375\n",
            "\n",
            "    accuracy                           0.77     70433\n",
            "   macro avg       0.70      0.66      0.67     70433\n",
            "weighted avg       0.75      0.77      0.76     70433\n",
            "\n",
            "[[46376  5682]\n",
            " [10574  7801]]\n"
          ]
        }
      ],
      "source": [
        "import pandas as pd\n",
        "from sklearn.model_selection import train_test_split\n",
        "from sklearn.neighbors import KNeighborsClassifier\n",
        "from sklearn.metrics import classification_report, confusion_matrix\n",
        "\n",
        "X = test_df.drop('MH', axis=1)\n",
        "y = test_df['MH']\n",
        "\n",
        "X = pd.get_dummies(X, columns=['Sex', 'PatientStatus_calc'], drop_first=True)\n",
        "\n",
        "X_train, X_test, y_train, y_test = train_test_split(X, y, test_size=0.2, random_state=42)\n",
        "\n",
        "knn = KNeighborsClassifier(n_neighbors=5)\n",
        "knn.fit(X_train, y_train)\n",
        "\n",
        "y_pred = knn.predict(X_test)\n",
        "\n",
        "print(classification_report(y_test, y_pred))\n",
        "print(confusion_matrix(y_test, y_pred))\n"
      ]
    },
    {
      "cell_type": "code",
      "source": [
        "from sklearn.model_selection import GridSearchCV\n",
        "\n",
        "param_grid = {\n",
        "    'n_neighbors': [5, 10, 20, 30, 40],\n",
        "    'weights': ['uniform', 'distance'],\n",
        "    'metric': ['euclidean', 'manhattan', 'minkowski']\n",
        "}\n",
        "grid_search = GridSearchCV(KNeighborsClassifier(), param_grid, cv=5, scoring='f1')\n",
        "\n",
        "grid_search.fit(X_train, y_train)\n",
        "\n",
        "print(\"Best Hyperparameters:\", grid_search.best_params_)\n",
        "print(\"Best Score:\", grid_search.best_score_)\n",
        "\n",
        "best_knn = grid_search.best_estimator_\n",
        "best_knn.fit(X_train,y_train)\n",
        "\n",
        "y_pred = best_knn.predict(X_test)\n",
        "print(classification_report(y_test, y_pred))\n",
        "print(confusion_matrix(y_test, y_pred))"
      ],
      "metadata": {
        "colab": {
          "base_uri": "https://localhost:8080/"
        },
        "id": "F66F45crUvpS",
        "outputId": "011c6c14-657a-41ef-d73a-cf28f3545330"
      },
      "execution_count": 14,
      "outputs": [
        {
          "output_type": "stream",
          "name": "stdout",
          "text": [
            "Best Hyperparameters: {'metric': 'euclidean', 'n_neighbors': 5, 'weights': 'uniform'}\n",
            "Best Score: 0.4810549501937776\n",
            "              precision    recall  f1-score   support\n",
            "\n",
            "           0       0.81      0.89      0.85     52058\n",
            "           1       0.58      0.42      0.49     18375\n",
            "\n",
            "    accuracy                           0.77     70433\n",
            "   macro avg       0.70      0.66      0.67     70433\n",
            "weighted avg       0.75      0.77      0.76     70433\n",
            "\n",
            "[[46376  5682]\n",
            " [10574  7801]]\n"
          ]
        }
      ]
    },
    {
      "cell_type": "code",
      "source": [
        "import matplotlib.pyplot as plt\n",
        "\n",
        "results = grid_search.cv_results_\n",
        "n_neighbors_values = results['param_n_neighbors']\n",
        "f1_scores = results['mean_test_score']\n",
        "\n",
        "plt.plot(n_neighbors_values, f1_scores, marker='o')\n",
        "plt.xlabel('Number of Neighbors (n_neighbors)')\n",
        "plt.ylabel('F1 Score')\n",
        "plt.title('F1 Score vs. Number of Neighbors')\n",
        "plt.grid(True)\n",
        "plt.show()"
      ],
      "metadata": {
        "colab": {
          "base_uri": "https://localhost:8080/",
          "height": 472
        },
        "id": "ag_u1upOVG9w",
        "outputId": "2719ba96-81ba-42e5-a257-2fa1c2f7e42f"
      },
      "execution_count": 15,
      "outputs": [
        {
          "output_type": "display_data",
          "data": {
            "text/plain": [
              "<Figure size 640x480 with 1 Axes>"
            ],
            "image/png": "[encoded data removed]"
          },
          "metadata": {}
        }
      ]
    },
    {
      "cell_type": "markdown",
      "source": [
        "### Logistic Regression"
      ],
      "metadata": {
        "id": "-JXCumjSVkGa"
      }
    },
    {
      "cell_type": "code",
      "execution_count": 16,
      "metadata": {
        "id": "vhGg7ZsDfiv4",
        "colab": {
          "base_uri": "https://localhost:8080/"
        },
        "outputId": "9e04e82d-b0a2-40a2-8b43-3aab0d35a40a"
      },
      "outputs": [
        {
          "output_type": "stream",
          "name": "stdout",
          "text": [
            "              precision    recall  f1-score   support\n",
            "\n",
            "           0       0.81      0.94      0.87     52058\n",
            "           1       0.70      0.37      0.49     18375\n",
            "\n",
            "    accuracy                           0.79     70433\n",
            "   macro avg       0.75      0.66      0.68     70433\n",
            "weighted avg       0.78      0.79      0.77     70433\n",
            "\n",
            "[[49123  2935]\n",
            " [11542  6833]]\n"
          ]
        }
      ],
      "source": [
        "import pandas as pd\n",
        "from sklearn.linear_model import LogisticRegression\n",
        "from sklearn.model_selection import train_test_split\n",
        "from sklearn.metrics import classification_report, confusion_matrix\n",
        "\n",
        "X = test_df.drop('MH', axis=1)\n",
        "y = test_df['MH']\n",
        "\n",
        "X = pd.get_dummies(X, columns=['Sex', 'PatientStatus_calc'], drop_first=True)\n",
        "\n",
        "X_train, X_test, y_train, y_test = train_test_split(X, y, test_size=0.2, random_state=42)\n",
        "\n",
        "logreg = LogisticRegression(solver='liblinear', max_iter=1000)\n",
        "logreg.fit(X_train, y_train)\n",
        "\n",
        "y_pred = logreg.predict(X_test)\n",
        "\n",
        "print(classification_report(y_test, y_pred))\n",
        "print(confusion_matrix(y_test, y_pred))"
      ]
    },
    {
      "cell_type": "code",
      "source": [
        "from sklearn.model_selection import GridSearchCV\n",
        "\n",
        "param_grid = {\n",
        "    'C': [0.001, 0.01, 0.1, 1, 10, 100],\n",
        "    'penalty': ['l1', 'l2', 'elasticnet', 'none'],\n",
        "    'solver': ['liblinear', 'saga']\n",
        "}\n",
        "\n",
        "grid_search = GridSearchCV(LogisticRegression(max_iter=1000), param_grid, cv=5, scoring='f1')\n",
        "grid_search.fit(X_train, y_train)\n",
        "\n",
        "print(\"Best Hyperparameters:\", grid_search.best_params_)\n",
        "print(\"Best Score:\", grid_search.best_score_)\n",
        "\n",
        "best_logreg = grid_search.best_estimator_\n",
        "best_logreg.fit(X_train, y_train)\n",
        "y_pred = best_logreg.predict(X_test)\n",
        "print(classification_report(y_test, y_pred))\n",
        "print(confusion_matrix(y_test, y_pred))"
      ],
      "metadata": {
        "colab": {
          "base_uri": "https://localhost:8080/"
        },
        "id": "Rvy97-5pNgFW",
        "outputId": "10538e54-fc38-41a9-abc4-f7e7589826b3"
      },
      "execution_count": 17,
      "outputs": [
        {
          "output_type": "stream",
          "name": "stdout",
          "text": [
            "Best Hyperparameters: {'C': 100, 'penalty': 'l1', 'solver': 'liblinear'}\n",
            "Best Score: 0.48841747802455043\n",
            "              precision    recall  f1-score   support\n",
            "\n",
            "           0       0.81      0.94      0.87     52058\n",
            "           1       0.70      0.37      0.49     18375\n",
            "\n",
            "    accuracy                           0.79     70433\n",
            "   macro avg       0.75      0.66      0.68     70433\n",
            "weighted avg       0.78      0.79      0.77     70433\n",
            "\n",
            "[[49119  2939]\n",
            " [11535  6840]]\n"
          ]
        }
      ]
    },
    {
      "cell_type": "code",
      "source": [
        "import matplotlib.pyplot as plt\n",
        "\n",
        "results = grid_search.cv_results_\n",
        "\n",
        "mean_test_scores = results['mean_test_score']\n",
        "params = results['params']\n",
        "\n",
        "c_values = []\n",
        "penalty_types = []\n",
        "scores = []\n",
        "\n",
        "for i in range(len(params)):\n",
        "    c_values.append(params[i]['C'])\n",
        "    penalty_types.append(params[i]['penalty'])\n",
        "    scores.append(mean_test_scores[i])\n",
        "\n",
        "plt.figure(figsize=(10, 6))\n",
        "for penalty in set(penalty_types):\n",
        "    indices = [i for i, x in enumerate(penalty_types) if x == penalty]\n",
        "    plt.plot([c_values[i] for i in indices], [scores[i] for i in indices], marker='o', label=penalty)\n",
        "\n",
        "plt.xscale('log') # Use log scale for the x-axis (C values)\n",
        "plt.xlabel('C (Regularization Strength)')\n",
        "plt.ylabel('Mean F1 Score')\n",
        "plt.title('GridSearchCV Results for Logistic Regression')\n",
        "plt.legend()\n",
        "plt.grid(True)\n",
        "plt.show()\n"
      ],
      "metadata": {
        "colab": {
          "base_uri": "https://localhost:8080/",
          "height": 569
        },
        "id": "6eUkFCzaXP11",
        "outputId": "25d8aaee-2991-4b4c-a54f-298f81ef9c79"
      },
      "execution_count": 18,
      "outputs": [
        {
          "output_type": "display_data",
          "data": {
            "text/plain": [
              "<Figure size 1000x600 with 1 Axes>"
            ],
            "image/png": "[encoded data removed]"
          },
          "metadata": {}
        }
      ]
    },
    {
      "cell_type": "code",
      "source": [
        "import matplotlib.pyplot as plt\n",
        "import seaborn as sns\n",
        "import pandas as pd\n",
        "\n",
        "feature_importances = best_logreg.coef_[0]\n",
        "feature_importance_df = pd.DataFrame({'Feature': X.columns, 'Importance': feature_importances})\n",
        "feature_importance_df = feature_importance_df.sort_values(by='Importance', ascending=False)\n",
        "\n",
        "# Select the top n features\n",
        "top_n_features = feature_importance_df.head(15)\n",
        "\n",
        "plt.figure(figsize=(10, 6))\n",
        "sns.barplot(x='Importance', y='Feature', data=top_n_features)\n",
        "plt.xlabel('Feature Importance Score')\n",
        "plt.ylabel('Feature')\n",
        "plt.title('Top n Feature Importance')\n",
        "plt.show()\n"
      ],
      "metadata": {
        "colab": {
          "base_uri": "https://localhost:8080/",
          "height": 429
        },
        "id": "s5jxKPhqSHGZ",
        "outputId": "6a9f4199-dc06-41be-b8ce-bf7ebde8e0d5"
      },
      "execution_count": 23,
      "outputs": [
        {
          "output_type": "display_data",
          "data": {
            "text/plain": [
              "<Figure size 1000x600 with 1 Axes>"
            ],
            "image/png": "[encoded data removed]"
          },
          "metadata": {}
        }
      ]
    },
    {
      "cell_type": "markdown",
      "source": [
        "### Naive Bayes"
      ],
      "metadata": {
        "id": "A-_v0KjdVtnc"
      }
    },
    {
      "cell_type": "code",
      "source": [
        "import pandas as pd\n",
        "from sklearn.naive_bayes import GaussianNB\n",
        "\n",
        "X = test_df.drop('MH', axis=1)\n",
        "y = test_df['MH']\n",
        "\n",
        "X = pd.get_dummies(X, columns=['Sex', 'PatientStatus_calc'], drop_first=True)\n",
        "\n",
        "X_train, X_test, y_train, y_test = train_test_split(X, y, test_size=0.2, random_state=42)\n",
        "\n",
        "nb = GaussianNB()\n",
        "nb.fit(X_train, y_train)\n",
        "\n",
        "y_pred = nb.predict(X_test)\n",
        "\n",
        "print(classification_report(y_test, y_pred))\n",
        "print(confusion_matrix(y_test, y_pred))\n"
      ],
      "metadata": {
        "colab": {
          "base_uri": "https://localhost:8080/"
        },
        "id": "E7r_h2pDLW4_",
        "outputId": "e0bf807a-9522-4b7a-b2a2-2d7b24007929"
      },
      "execution_count": null,
      "outputs": [
        {
          "output_type": "stream",
          "name": "stdout",
          "text": [
            "              precision    recall  f1-score   support\n",
            "\n",
            "           0       0.80      0.82      0.81     52058\n",
            "           1       0.44      0.40      0.42     18375\n",
            "\n",
            "    accuracy                           0.71     70433\n",
            "   macro avg       0.62      0.61      0.62     70433\n",
            "weighted avg       0.70      0.71      0.71     70433\n",
            "\n",
            "[[42680  9378]\n",
            " [10937  7438]]\n"
          ]
        }
      ]
    },
    {
      "cell_type": "code",
      "source": [
        "from sklearn.model_selection import GridSearchCV\n",
        "from sklearn.naive_bayes import GaussianNB\n",
        "\n",
        "param_grid_nb = {\n",
        "    'var_smoothing': np.logspace(0,-9, num=20)\n",
        "}\n",
        "\n",
        "grid_search_nb = GridSearchCV(estimator=GaussianNB(), param_grid=param_grid_nb, verbose=1, cv=5, n_jobs=-1, scoring='f1')\n",
        "grid_search_nb.fit(X_train, y_train)\n",
        "\n",
        "print(\"Best Hyperparameters:\", grid_search_nb.best_params_)\n",
        "print(\"Best Score:\", grid_search_nb.best_score_)\n",
        "\n",
        "best_nb = grid_search_nb.best_estimator_\n",
        "best_nb.fit(X_train, y_train)\n",
        "\n",
        "y_pred_nb = best_nb.predict(X_test)\n",
        "print(classification_report(y_test, y_pred_nb))\n",
        "print(confusion_matrix(y_test, y_pred_nb))"
      ],
      "metadata": {
        "colab": {
          "base_uri": "https://localhost:8080/"
        },
        "id": "Nt-pdZr1BFg7",
        "outputId": "2d4f7202-0b89-4069-90a3-bfabee1d14b2"
      },
      "execution_count": 28,
      "outputs": [
        {
          "output_type": "stream",
          "name": "stdout",
          "text": [
            "Fitting 5 folds for each of 20 candidates, totalling 100 fits\n",
            "Best Hyperparameters: {'var_smoothing': np.float64(1e-09)}\n",
            "Best Score: 0.44756559669878804\n",
            "              precision    recall  f1-score   support\n",
            "\n",
            "           0       0.80      0.82      0.81     52058\n",
            "           1       0.46      0.42      0.44     18375\n",
            "\n",
            "    accuracy                           0.72     70433\n",
            "   macro avg       0.63      0.62      0.63     70433\n",
            "weighted avg       0.71      0.72      0.72     70433\n",
            "\n",
            "[[42936  9122]\n",
            " [10600  7775]]\n"
          ]
        }
      ]
    },
    {
      "cell_type": "code",
      "source": [],
      "metadata": {
        "id": "nnrqgK16BWYi"
      },
      "execution_count": null,
      "outputs": []
    }
  ],
  "metadata": {
    "colab": {
      "provenance": [],
      "toc_visible": true,
      "authorship_tag": "ABX9TyMiuCI3K34peP5AyEvHudJR",
      "include_colab_link": true
    },
    "kernelspec": {
      "display_name": "Python 3",
      "name": "python3"
    },
    "language_info": {
      "name": "python"
    }
  },
  "nbformat": 4,
  "nbformat_minor": 0
}