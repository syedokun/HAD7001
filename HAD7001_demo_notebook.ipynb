{
  "nbformat": 4,
  "nbformat_minor": 0,
  "metadata": {
    "colab": {
      "provenance": [],
      "authorship_tag": "ABX9TyPpKMItH10h2HoyUrC0hxsr",
      "include_colab_link": true
    },
    "kernelspec": {
      "name": "python3",
      "display_name": "Python 3"
    },
    "language_info": {
      "name": "python"
    }
  },
  "cells": [
    {
      "cell_type": "markdown",
      "metadata": {
        "id": "view-in-github",
        "colab_type": "text"
      },
      "source": [
        "<a href=\"https://colab.research.google.com/github/syedokun/HAD7001/blob/main/HAD7001_demo_notebook.ipynb\" target=\"_parent\"><img src=\"https://colab.research.google.com/assets/colab-badge.svg\" alt=\"Open In Colab\"/></a>"
      ]
    },
    {
      "cell_type": "markdown",
      "source": [
        "## HAD7001"
      ],
      "metadata": {
        "id": "bfXzaq8H_0b4"
      }
    },
    {
      "cell_type": "code",
      "source": [],
      "metadata": {
        "id": "JzBO36i7_2J7"
      },
      "execution_count": null,
      "outputs": []
    }
  ]
}